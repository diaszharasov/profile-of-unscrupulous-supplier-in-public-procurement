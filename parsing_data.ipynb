{
 "cells": [
  {
   "cell_type": "markdown",
   "id": "3d5c68a5-b502-42e4-9373-2049f7fed13a",
   "metadata": {},
   "source": [
    "# Как парсил данные и создавал БД по недобросовестным поставщиквам"
   ]
  },
  {
   "cell_type": "markdown",
   "id": "169a8f4c-dd36-483b-84f7-b82b874ff838",
   "metadata": {},
   "source": [
    "## Необходимые библиотеки"
   ]
  },
  {
   "cell_type": "code",
   "execution_count": null,
   "id": "0d55e63d-d417-40f4-9cc1-eb48e2ac5408",
   "metadata": {},
   "outputs": [],
   "source": [
    "# для работы с локальными файлами\n",
    "import zipfile\n",
    "import os\n",
    "# для работы с XML\n",
    "import xmltodict\n",
    "import xml.etree.ElementTree as ET\n",
    "# для работы с БД\n",
    "import pandas as pd"
   ]
  },
  {
   "cell_type": "markdown",
   "id": "e2a0bb61-9242-4a35-8bd7-3fd22036abbe",
   "metadata": {},
   "source": [
    "## Разархивируем скачанные zip-файлы из удаленной папки"
   ]
  },
  {
   "cell_type": "code",
   "execution_count": null,
   "id": "d735536b-6363-49aa-b463-bb6541cbd24e",
   "metadata": {},
   "outputs": [],
   "source": [
    "def unzip_files(source, destination):\n",
    "    # Проходим по всем файлам в папке с архивами\n",
    "    for file_name in os.listdir(source):\n",
    "        if file_name.endswith('.zip'):\n",
    "            # Составляем полный путь к архиву\n",
    "            file_path = os.path.join(source, file_name)\n",
    "            \n",
    "            # Открываем ZIP-файл\n",
    "            with ZipFile(file_path, 'r') as zip_ref:\n",
    "                # Извлекаем все содержимое в целевую папку\n",
    "                zip_ref.extractall(destination)\n",
    "\n",
    "                print(f'Файлы из {file_name} были успешно извлечены в {destination}')"
   ]
  },
  {
   "cell_type": "code",
   "execution_count": null,
   "id": "58cb67ea-ea24-4be8-9478-546442b7ebb7",
   "metadata": {},
   "outputs": [],
   "source": [
    "# Путь к 1 папке, где хранятся ZIP-архивы\n",
    "source_folder = r'D:\\Jupyter_Notebook\\2024_ИПС_Данные\\ftp.zakupki.gov (UnfairSupplier)'\n",
    "\n",
    "# Путь ко 2 папке, где хранятся ZIP-архивы\n",
    "source_folder_additional = r'D:\\Jupyter_Notebook\\2024_ИПС_Данные\\ftp.zakupki.gov (UnfairSupplier2022)'\n",
    "\n",
    "# Путь к папке, куда будут извлечены файлы\n",
    "destination_folder = r'D:\\Jupyter_Notebook\\2024_ИПС_Данные\\all_non_zip'"
   ]
  },
  {
   "cell_type": "code",
   "execution_count": null,
   "id": "24195030-e270-40a6-8385-21efb0230c9b",
   "metadata": {},
   "outputs": [],
   "source": [
    "unzip_files(source_folder, destination_folder)\n",
    "unzip_files(source_folder_additional, destination_folder)"
   ]
  },
  {
   "cell_type": "markdown",
   "id": "78e1f2ab-889d-41ff-a850-7751fcecac21",
   "metadata": {},
   "source": [
    "> в итоге имеем 110 392 записей. ВАЖНО - это xml и sig записи (sig - электронная подпись связанная с некоторыми закупками)"
   ]
  },
  {
   "cell_type": "code",
   "execution_count": null,
   "id": "2cafaac6-fc38-4b86-a9bf-dc7c8e731dc5",
   "metadata": {},
   "outputs": [],
   "source": [
    "directory_path = r'D:\\Jupyter_Notebook\\2024_ИПС_Данные\\all_non_zip'\n",
    "\n",
    "xml_count = 0  # Счетчик для файлов XML\n",
    "other_count = 0  # Счетчик для других файлов (то есть sig)\n",
    "\n",
    "# Перебираем файлы в указанной директории\n",
    "for filename in os.listdir(directory_path):\n",
    "    if filename.endswith('.xml'):\n",
    "        xml_count += 1\n",
    "    else:\n",
    "        other_count += 1\n",
    "\n",
    "print(f\"Количество файлов XML: {xml_count}\")\n",
    "print(f\"Количество других файлов: {other_count}\")"
   ]
  },
  {
   "cell_type": "markdown",
   "id": "4502c509-fe2c-4406-8b49-74ca366f3f1b",
   "metadata": {},
   "source": [
    "> Количество файлов XML: 65157  \n",
    "Количество других файлов: 45235"
   ]
  },
  {
   "cell_type": "markdown",
   "id": "4a3b4eb4-21c2-423c-88cb-4f653e88dad9",
   "metadata": {},
   "source": [
    "## Спарсим данные с XML файлов"
   ]
  },
  {
   "cell_type": "markdown",
   "id": "28752b34-d3d1-4de1-8732-0c932d568fbe",
   "metadata": {},
   "source": [
    "### 1. Проверим структуру файла"
   ]
  },
  {
   "cell_type": "code",
   "execution_count": null,
   "id": "2c6ca696-8e6e-41e7-8a86-6cad99698ef1",
   "metadata": {},
   "outputs": [],
   "source": [
    "with open('unfairSupplier_336825-22_336825_for_test_2022.xml', encoding=\"utf8\") as datafile:\n",
    "    doc_main_test = xmltodict.parse(datafile.read())"
   ]
  },
  {
   "cell_type": "raw",
   "id": "bc9d2f54-7da6-4613-8edd-e790ff16aa4e",
   "metadata": {},
   "source": [
    "# это doc_main_test\n",
    "{'ns2:export': {'@xmlns': 'http://zakupki.gov.ru/oos/types/1',\n",
    "  '@xmlns:ns6': 'http://zakupki.gov.ru/oos/KOTypes/1',\n",
    "  '@xmlns:ns5': 'http://zakupki.gov.ru/oos/TPtypes/1',\n",
    "  '@xmlns:ns8': 'http://zakupki.gov.ru/oos/pprf615types/1',\n",
    "  '@xmlns:ns7': 'http://zakupki.gov.ru/oos/CPtypes/1',\n",
    "  '@xmlns:ns9': 'http://zakupki.gov.ru/oos/EPtypes/1',\n",
    "  '@xmlns:ns11': 'http://zakupki.gov.ru/oos/printform/1',\n",
    "  '@xmlns:ns10': 'http://zakupki.gov.ru/oos/SMTypes/1',\n",
    "  '@xmlns:ns2': 'http://zakupki.gov.ru/oos/export/1',\n",
    "  '@xmlns:ns4': 'http://zakupki.gov.ru/oos/base/1',\n",
    "  '@xmlns:ns3': 'http://zakupki.gov.ru/oos/common/1',\n",
    "  'ns2:unfairSupplier': {'@schemeVersion': '11.2',\n",
    "   'registryNum': 'РНП.336825-22',\n",
    "   'publishDate': '2022-02-25T00:00:00.000',\n",
    "   'approveDate': '2022-02-24T00:00:00.000',\n",
    "   'occurrenceReasonDate': '2022-02-14',\n",
    "   'ergRequestApproveDate': '2022-02-14',\n",
    "   'state': 'PUBLISHED',\n",
    "   'publishOrg': {'regNum': '01031000103',\n",
    "    'fullName': 'УПРАВЛЕНИЕ ФЕДЕРАЛЬНОЙ АНТИМОНОПОЛЬНОЙ СЛУЖБЫ ПО РЕСПУБЛИКЕ ДАГЕСТАН'},\n",
    "   'createReason': 'CANCEL_CONTRACT',\n",
    "   'approveOrderReasonInfo': {'number': 'РНП-005-06-104-282-2022',\n",
    "    'date': '2022-02-24',\n",
    "    'approveReason': 'Сведения, представленные УПРАВЛЕНИЕМ ФЕДЕРАЛЬНОЙ СЛУЖБЫ ПО НАДЗОРУ В СФЕРЕ ЗАЩИТЫ ПРАВ ПОТРЕБИТЕЛЕЙ И БЛАГОПОЛУЧИЯ ЧЕЛОВЕКА, в отношении: ООО «ТЕХНО-УНИВЕРСАЛ» (ИНН 0570000370, адрес: 367000, ДАГЕСТАН РЕСПУБЛИКА, МАХАЧКАЛА ГОРОД, ЦИОЛКОВСКОГО УЛИЦА, Д.14, К.А, КВ.13,); включить в реестр недобросовестных поставщиков сроком на 2 (два) года.'},\n",
    "   'customer': {'regNum': '01031000073',\n",
    "    'fullName': 'УПРАВЛЕНИЕ ФЕДЕРАЛЬНОЙ СЛУЖБЫ ПО НАДЗОРУ В СФЕРЕ ЗАЩИТЫ ПРАВ ПОТРЕБИТЕЛЕЙ И БЛАГОПОЛУЧИЯ ЧЕЛОВЕКА ПО РЕСПУБЛИКЕ ДАГЕСТАН',\n",
    "    'shortName': 'УПРАВЛЕНИЕ ФЕДЕРАЛЬНОЙ СЛУЖБЫ ПО НАДЗОРУ В СФЕРЕ ЗАЩИТЫ ПРАВ ПОТРЕБИТЕЛЕЙ И БЛАГОПОЛУЧИЯ ЧЕЛОВЕКА ПО РЕСПУБЛИКЕ ДАГЕСТАН',\n",
    "    'postAddress': 'Российская Федерация, 367009, УПРАВЛЕНИЕ ФЕДЕРАЛЬНОЙ АНТИМОНОПОЛЬНОЙ СЛУЖБЫ ПО РЕСПУБЛИКЕ ДАГЕСТАН, Махачкала г, Локомотив кв-л, УЛ МАГОМЕДТАГИРОВА, 174',\n",
    "    'factAddress': 'Российская Федерация, 367009, УПРАВЛЕНИЕ ФЕДЕРАЛЬНОЙ АНТИМОНОПОЛЬНОЙ СЛУЖБЫ ПО РЕСПУБЛИКЕ ДАГЕСТАН, Махачкала г, Локомотив кв-л, УЛ МАГОМЕДТАГИРОВА, 174',\n",
    "    'INN': '0560029210',\n",
    "    'KPP': '057301001'},\n",
    "   'unfairSupplier': {'fullName': 'ОБЩЕСТВО С ОГРАНИЧЕННОЙ ОТВЕТСТВЕННОСТЬЮ \"ТЕХНО-УНИВЕРСАЛ\"',\n",
    "    'type': 'U',\n",
    "    'shortName': 'ООО \"ТЕХНО-УНИВЕРСАЛ\"',\n",
    "    'inn': '0570000370',\n",
    "    'kpp': '057201001',\n",
    "    'email': 'chaika-holding@mail.ru',\n",
    "    'founders': [{'names': 'КУРБАНАЛИЕВ МАГОМЕД СУЛТАНГОСЕНОВИЧ',\n",
    "      'inn': '056104491701',\n",
    "      'type': {'code': 'LIF',\n",
    "       'name': 'Лицо, исполняющее функции единоличного исполнительного органа'}},\n",
    "     {'names': 'КУРБАНАЛИЕВ МАГОМЕД СУЛТАНГОСЕНОВИЧ',\n",
    "      'inn': '056104491701',\n",
    "      'type': {'code': 'UKU',\n",
    "       'name': 'Участник (член) корпоративного юридического лица, способный оказывать влияние на деятельность участника закупки'}}]},\n",
    "   'purchase': {'purchaseNumber': '0103100007321000021',\n",
    "    'purchaseObjectInfo': 'Услуги транспортные для нужд территориально отдела в г. Избербаше',\n",
    "    'placingWayName': 'Электронный аукцион',\n",
    "    'lotNumber': '1'},\n",
    "   'finalDateInclude': '2022-02-24',\n",
    "   'autoExDateInfo': {'autoExDateCalcSign': 'FINAL',\n",
    "    'autoExDate': '2024-02-24'}}}}"
   ]
  },
  {
   "cell_type": "markdown",
   "id": "ca3c9ded-1e6f-4e2e-a9a3-08926bfbe192",
   "metadata": {},
   "source": [
    "> В некоторых файлах, которые были выборочно проверены вручную, структура отличалась. Но учесть все случаи было трудозатратно. Поэтому изначально бралась наиболее \"популярная\" структура. Она охватила почти все файлы (62 тыс из 65 тыс), поэтому в других не было необходимости "
   ]
  },
  {
   "cell_type": "markdown",
   "id": "80315735-f793-47dc-a535-7a9062867823",
   "metadata": {},
   "source": [
    "### 2. Отберем необходимые переменные"
   ]
  },
  {
   "cell_type": "code",
   "execution_count": 56,
   "id": "7a42c0cb-ed71-46fe-8af4-e15087450835",
   "metadata": {},
   "outputs": [],
   "source": [
    "# дата публикации записи в рнп\n",
    "publish_date = doc_main_test['ns2:export']['ns2:unfairSupplier']['publishDate']"
   ]
  },
  {
   "cell_type": "code",
   "execution_count": 59,
   "id": "55ae96b5-c0af-480f-aa41-6935fa28340e",
   "metadata": {},
   "outputs": [],
   "source": [
    "# причина занесения в рнп\n",
    "reason = doc_main_test['ns2:export']['ns2:unfairSupplier']['createReason']"
   ]
  },
  {
   "cell_type": "code",
   "execution_count": 74,
   "id": "12398d67-3079-4dad-85e7-03055f5032a3",
   "metadata": {},
   "outputs": [],
   "source": [
    "# код СПЗ - Уникальный учетный номер организации - это Уникальный учетный номер организации (СПЗ)\n",
    "customer_code = doc_main_test['ns2:export']['ns2:unfairSupplier']['customer']['regNum']"
   ]
  },
  {
   "cell_type": "code",
   "execution_count": 65,
   "id": "e0bc26dd-cbd3-438d-9600-1330cae60f4a",
   "metadata": {},
   "outputs": [],
   "source": [
    "# ИНН заказчика\n",
    "customer_inn = doc_main_test['ns2:export']['ns2:unfairSupplier']['customer']['INN']"
   ]
  },
  {
   "cell_type": "code",
   "execution_count": 68,
   "id": "b0868e38-d1bd-48bb-a0fe-75c305292434",
   "metadata": {},
   "outputs": [],
   "source": [
    "# КПП заказчика\n",
    "customer_kpp = doc_main_test['ns2:export']['ns2:unfairSupplier']['customer']['KPP']"
   ]
  },
  {
   "cell_type": "code",
   "execution_count": 72,
   "id": "a26147ef-1c2b-46ce-b2c5-70f85eb77d29",
   "metadata": {},
   "outputs": [],
   "source": [
    "# полное название поставщика\n",
    "supplier_full_name = doc_main_test['ns2:export']['ns2:unfairSupplier']['unfairSupplier']['fullName']"
   ]
  },
  {
   "cell_type": "code",
   "execution_count": 77,
   "id": "cc6e95a9-e04a-4a9a-b460-347975d9ed1a",
   "metadata": {},
   "outputs": [],
   "source": [
    "# тип поставщика\n",
    "supplier_type = doc_main_test['ns2:export']['ns2:unfairSupplier']['unfairSupplier']['type']"
   ]
  },
  {
   "cell_type": "code",
   "execution_count": 80,
   "id": "9413d243-eee2-4498-ac7c-491568aa543e",
   "metadata": {},
   "outputs": [],
   "source": [
    "# ИНН поставщика\n",
    "supplier_inn = doc_main_test['ns2:export']['ns2:unfairSupplier']['unfairSupplier']['inn']"
   ]
  },
  {
   "cell_type": "code",
   "execution_count": 81,
   "id": "61c6a92c-c3e7-41b9-95e7-d6c7a049bb6f",
   "metadata": {},
   "outputs": [],
   "source": [
    "# КПП поставщика\n",
    "supplier_kpp = doc_main_test['ns2:export']['ns2:unfairSupplier']['unfairSupplier']['kpp']"
   ]
  },
  {
   "cell_type": "code",
   "execution_count": 95,
   "id": "1bf0e02f-9f82-494b-bffd-f783377cb150",
   "metadata": {},
   "outputs": [],
   "source": [
    "# Основатели компании-поставщика\n",
    "# Основателей может быть несколько, поэтому надо отобрать нужные переменные для нескольких основателей\n",
    "# ИНН и амплуа (то есть значение в компании или конкретно в этой закупке) основателя \n",
    "# надо определить сокращения амплуа из исходного файла - там есть переменная name - подробное описание амплуа\n",
    "founders_inn_role = [list([info_of_founder['inn'], info_of_founder['type']['code']]) for info_of_founder in doc_main_test['ns2:export']['ns2:unfairSupplier']['unfairSupplier']['founders']]"
   ]
  },
  {
   "cell_type": "code",
   "execution_count": 99,
   "id": "70a162dd-69dc-435a-8894-1a776b28fb04",
   "metadata": {},
   "outputs": [],
   "source": [
    "# объект закупки\n",
    "purchase_object = doc_main_test['ns2:export']['ns2:unfairSupplier']['purchase']['purchaseObjectInfo']"
   ]
  },
  {
   "cell_type": "code",
   "execution_count": 103,
   "id": "b7c1ba46-a224-47b2-8cf5-5f5b080770d8",
   "metadata": {},
   "outputs": [],
   "source": [
    "# объект контракта\n",
    "# конкретно в doc_main_test нет данного параметра, но в других файлах есть. Это связано с особенностью закупок\n",
    "contract_object = doc_main_test['ns2:export']['ns2:unfairSupplier']['contract']['productInfo']"
   ]
  },
  {
   "cell_type": "code",
   "execution_count": 106,
   "id": "09414c8a-34eb-4d7a-a634-638afcab5b7d",
   "metadata": {},
   "outputs": [],
   "source": [
    "# валюта цены конракта\n",
    "contract_price_currency = doc_main_test['ns2:export']['ns2:unfairSupplier']['contract']['currency']['code']"
   ]
  },
  {
   "cell_type": "code",
   "execution_count": 109,
   "id": "83c5a25b-3354-452d-9b64-c3751d9bdeea",
   "metadata": {},
   "outputs": [],
   "source": [
    "# цена контракта\n",
    "contract_price_amount = doc_main_test['ns2:export']['ns2:unfairSupplier']['contract']['price']"
   ]
  },
  {
   "cell_type": "markdown",
   "id": "3e2a4954-4ae7-49d2-9657-5381c136876d",
   "metadata": {},
   "source": [
    "### 3. Прочитаем все необходимые параметры XML файла, создадим БД (pandas)"
   ]
  },
  {
   "cell_type": "code",
   "execution_count": null,
   "id": "8b4eac46-2ebe-4bdf-a20c-adbdc8320e12",
   "metadata": {},
   "outputs": [],
   "source": [
    "# Путь к директории с файлами\n",
    "directory_path = r'D:\\Jupyter_Notebook\\2024_ИПС_Данные\\all_non_zip'\n",
    "\n",
    "# Подготовим список для хранения данных\n",
    "data = []\n",
    "\n",
    "# Перебор всех файлов в директории\n",
    "for filename in os.listdir(directory_path):   \n",
    "    \n",
    "    # Проверяем, является ли файл XML файлом\n",
    "    if filename.endswith('.xml'):\n",
    "        file_path = os.path.join(directory_path, filename)\n",
    "        try:\n",
    "            # Открываем и читаем XML файл\n",
    "            with open(file_path, encoding=\"utf8\") as datafile:\n",
    "                doc = xmltodict.parse(datafile.read())\n",
    "                \n",
    "                # Извлекаем нужные переменные, используя метод get для избежания KeyError\n",
    "                publish_date = doc.get('ns2:export', {}).get('ns2:unfairSupplier', {}).get('publishDate', None)\n",
    "                reason = doc.get('ns2:export', {}).get('ns2:unfairSupplier', {}).get('createReason', None)\n",
    "                customer_code = doc.get('ns2:export', {}).get('ns2:unfairSupplier', {}).get('customer', {}).get('regNum', None)\n",
    "                customer_inn = doc.get('ns2:export', {}).get('ns2:unfairSupplier', {}).get('customer', {}).get('INN', None)\n",
    "                customer_kpp = doc.get('ns2:export', {}).get('ns2:unfairSupplier', {}).get('customer', {}).get('KPP', None)\n",
    "                supplier_full_name = doc.get('ns2:export', {}).get('ns2:unfairSupplier', {}).get('unfairSupplier', {}).get('fullName', None)\n",
    "                supplier_type = doc.get('ns2:export', {}).get('ns2:unfairSupplier', {}).get('unfairSupplier', {}).get('type', None)\n",
    "                supplier_inn = doc.get('ns2:export', {}).get('ns2:unfairSupplier', {}).get('unfairSupplier', {}).get('inn', None)\n",
    "                supplier_kpp = doc.get('ns2:export', {}).get('ns2:unfairSupplier', {}).get('unfairSupplier', {}).get('kpp', None)\n",
    "                \n",
    "                # Добавляем логику для извлечения информации об основателях\n",
    "                founders_info = doc.get('ns2:export', {})\\\n",
    "                                .get('ns2:unfairSupplier', {})\\\n",
    "                                .get('unfairSupplier', {})\\\n",
    "                                .get('founders', [])\n",
    "\n",
    "                # Проверяем, является ли founders списком. Если нет, преобразуем в список\n",
    "                if founders_info is not None and not isinstance(founders_info, list):\n",
    "                    founders_info = [founders_info]  # Делаем список с одним элементом     \n",
    "                    \n",
    "                founders_inn_role = []\n",
    "                if founders_info:\n",
    "                    for info_of_founder in founders_info:\n",
    "                        inn = info_of_founder.get('inn', None)\n",
    "                        type_code = info_of_founder.get('type', {}).get('code', None) if info_of_founder.get('type') else None\n",
    "                        founders_inn_role.append([inn, type_code])\n",
    "                \n",
    "                # Проверяем, существует ли 'purchase' и не равно ли оно None\n",
    "                purchase = doc.get('ns2:export', {}).get('ns2:unfairSupplier', {}).get('purchase', {})\n",
    "                if purchase is not None:\n",
    "                    purchase_object = purchase.get('purchaseObjectInfo', None)\n",
    "                else:\n",
    "                    purchase_object = None\n",
    "\n",
    "                contract_object = doc.get('ns2:export', {}).get('ns2:unfairSupplier', {}).get('contract', {}).get('productInfo', None)\n",
    "                contract_price_currency = doc.get('ns2:export', {}).get('ns2:unfairSupplier', {}).get('contract', {}).get('currency', {}).get('code', None)\n",
    "                contract_price_amount = doc.get('ns2:export', {}).get('ns2:unfairSupplier', {}).get('contract', {}).get('price', None)\n",
    "                \n",
    "                # Добавляем извлеченные данные в список\n",
    "                data.append({'publish_date': publish_date,\n",
    "                             'reason': reason,\n",
    "                             'customer_code': customer_code,\n",
    "                             'customer_inn': customer_inn,\n",
    "                             'customer_kpp': customer_kpp,\n",
    "                             'supplier_full_name': supplier_full_name,\n",
    "                             'supplier_type': supplier_type, \n",
    "                             'supplier_inn': supplier_inn,\n",
    "                             'supplier_kpp': supplier_kpp,\n",
    "                             'founders_inn_role': founders_inn_role,\n",
    "                             'purchase_object': purchase_object,\n",
    "                             'contract_object': contract_object,\n",
    "                             'contract_price_currency': contract_price_currency, \n",
    "                             'contract_price_amount': contract_price_amount\n",
    "                            })\n",
    "                \n",
    "        except Exception as e:\n",
    "            # В случае ошибки при чтении файла выводим сообщение\n",
    "            print(f\"Ошибка при чтении файла {file_path}: {e}\")\n",
    "\n",
    "# Создаем DataFrame\n",
    "df = pd.DataFrame(data)\n",
    "\n",
    "# Сохраняем DataFrame в CSV файл\n",
    "df.to_csv('output_dataframe.csv', index=False)"
   ]
  },
  {
   "cell_type": "markdown",
   "id": "de84bb0d-b504-4e35-a223-79a1ce14cb86",
   "metadata": {},
   "source": [
    "> Как обозначал ранее, скрипт не охвывает все 65 157 записей. Поэтому проверяем, где имеем заполненные мастхэв параметры (дата и ИНН)\n",
    "\n",
    "> Почему дата и ИНН? - Потому что без них нет возможности найти соответствия с финансовыми показателями поставщика из другой базы (это чуть позже)"
   ]
  },
  {
   "cell_type": "code",
   "execution_count": 9,
   "id": "4745fde5-a2d6-44c4-8749-9866d34e4c1d",
   "metadata": {
    "scrolled": true
   },
   "outputs": [
    {
     "data": {
      "text/html": [
       "<div>\n",
       "<style scoped>\n",
       "    .dataframe tbody tr th:only-of-type {\n",
       "        vertical-align: middle;\n",
       "    }\n",
       "\n",
       "    .dataframe tbody tr th {\n",
       "        vertical-align: top;\n",
       "    }\n",
       "\n",
       "    .dataframe thead th {\n",
       "        text-align: right;\n",
       "    }\n",
       "</style>\n",
       "<table border=\"1\" class=\"dataframe\">\n",
       "  <thead>\n",
       "    <tr style=\"text-align: right;\">\n",
       "      <th></th>\n",
       "      <th>publish_date_year</th>\n",
       "      <th>publish_date</th>\n",
       "      <th>reason</th>\n",
       "      <th>customer_code</th>\n",
       "      <th>customer_inn</th>\n",
       "      <th>customer_kpp</th>\n",
       "      <th>supplier_full_name</th>\n",
       "      <th>supplier_type</th>\n",
       "      <th>supplier_inn</th>\n",
       "      <th>supplier_kpp</th>\n",
       "      <th>founders_inn_role</th>\n",
       "      <th>purchase_object</th>\n",
       "      <th>contract_object</th>\n",
       "      <th>contract_price_currency</th>\n",
       "      <th>contract_price_amount</th>\n",
       "    </tr>\n",
       "  </thead>\n",
       "  <tbody>\n",
       "    <tr>\n",
       "      <th>143</th>\n",
       "      <td>2014.0</td>\n",
       "      <td>2014-01-21T14:22:11.636</td>\n",
       "      <td>CANCEL_CONTRACT</td>\n",
       "      <td>3.243001e+09</td>\n",
       "      <td>2.901057e+09</td>\n",
       "      <td>290101001.0</td>\n",
       "      <td>ООО \"Строительные технологии\"</td>\n",
       "      <td>U</td>\n",
       "      <td>2901235160</td>\n",
       "      <td>NaN</td>\n",
       "      <td>[]</td>\n",
       "      <td>На право заключения гражданско-правового догов...</td>\n",
       "      <td>ремонту крылец педиатрического корпуса по адре...</td>\n",
       "      <td>RUB</td>\n",
       "      <td>990688.90</td>\n",
       "    </tr>\n",
       "    <tr>\n",
       "      <th>144</th>\n",
       "      <td>2014.0</td>\n",
       "      <td>2014-01-24T15:47:55.179</td>\n",
       "      <td>CANCEL_CONTRACT</td>\n",
       "      <td>1.572000e+09</td>\n",
       "      <td>6.027088e+09</td>\n",
       "      <td>602701001.0</td>\n",
       "      <td>ООО \"РОСПРОМТОРГ\"</td>\n",
       "      <td>U</td>\n",
       "      <td>6321299175</td>\n",
       "      <td>NaN</td>\n",
       "      <td>[]</td>\n",
       "      <td>Размещение заказа на право \\nзаключить государ...</td>\n",
       "      <td>выполнение работ по установке недостающих доро...</td>\n",
       "      <td>RUB</td>\n",
       "      <td>13499999.99</td>\n",
       "    </tr>\n",
       "    <tr>\n",
       "      <th>145</th>\n",
       "      <td>2014.0</td>\n",
       "      <td>2014-01-24T17:00:36.339</td>\n",
       "      <td>CANCEL_CONTRACT</td>\n",
       "      <td>3.172000e+09</td>\n",
       "      <td>2.225022e+09</td>\n",
       "      <td>222501001.0</td>\n",
       "      <td>Общество с ограниченной ответственностью \"Гермес\"</td>\n",
       "      <td>U</td>\n",
       "      <td>2225097612</td>\n",
       "      <td>222501001.0</td>\n",
       "      <td>[]</td>\n",
       "      <td>Поставка продуктов питания (картофель) для нуж...</td>\n",
       "      <td>Поставка продуктов питания (картофель) для нуж...</td>\n",
       "      <td>RUB</td>\n",
       "      <td>248958.56</td>\n",
       "    </tr>\n",
       "    <tr>\n",
       "      <th>146</th>\n",
       "      <td>2014.0</td>\n",
       "      <td>2014-01-27T11:59:04.391</td>\n",
       "      <td>CANCEL_CONTRACT</td>\n",
       "      <td>1.731000e+09</td>\n",
       "      <td>7.701904e+09</td>\n",
       "      <td>770101001.0</td>\n",
       "      <td>ООО \"АктивСтройСервис\"</td>\n",
       "      <td>U</td>\n",
       "      <td>7728800929</td>\n",
       "      <td>NaN</td>\n",
       "      <td>[]</td>\n",
       "      <td>Выполнение ремонта скатной кровли администрати...</td>\n",
       "      <td>Выполнение работ по ремонту скатной кровли адм...</td>\n",
       "      <td>RUB</td>\n",
       "      <td>2420682.53</td>\n",
       "    </tr>\n",
       "    <tr>\n",
       "      <th>147</th>\n",
       "      <td>2014.0</td>\n",
       "      <td>2014-01-27T12:17:33.049</td>\n",
       "      <td>CANCEL_CONTRACT</td>\n",
       "      <td>6.351000e+09</td>\n",
       "      <td>3.908006e+09</td>\n",
       "      <td>390601001.0</td>\n",
       "      <td>Общество с ограниченной ответственностью \"ПЕГАС\"</td>\n",
       "      <td>U</td>\n",
       "      <td>7713754973</td>\n",
       "      <td>771301001.0</td>\n",
       "      <td>[]</td>\n",
       "      <td>Поставка бланков «Мореходная книжка» в количес...</td>\n",
       "      <td>Поставка бланков \"Мореходная книжка\" для нужд ...</td>\n",
       "      <td>RUB</td>\n",
       "      <td>542741.85</td>\n",
       "    </tr>\n",
       "    <tr>\n",
       "      <th>...</th>\n",
       "      <td>...</td>\n",
       "      <td>...</td>\n",
       "      <td>...</td>\n",
       "      <td>...</td>\n",
       "      <td>...</td>\n",
       "      <td>...</td>\n",
       "      <td>...</td>\n",
       "      <td>...</td>\n",
       "      <td>...</td>\n",
       "      <td>...</td>\n",
       "      <td>...</td>\n",
       "      <td>...</td>\n",
       "      <td>...</td>\n",
       "      <td>...</td>\n",
       "      <td>...</td>\n",
       "    </tr>\n",
       "    <tr>\n",
       "      <th>62910</th>\n",
       "      <td>2018.0</td>\n",
       "      <td>2018-03-01T00:00:00.000</td>\n",
       "      <td>CANCEL_CONTRACT</td>\n",
       "      <td>1.373000e+09</td>\n",
       "      <td>4.003006e+09</td>\n",
       "      <td>400301001.0</td>\n",
       "      <td>ОБЩЕСТВО С ОГРАНИЧЕННОЙ ОТВЕТСТВЕННОСТЬЮ \"ОПТО...</td>\n",
       "      <td>U</td>\n",
       "      <td>4025419633</td>\n",
       "      <td>402501001.0</td>\n",
       "      <td>[['402571207928', None]]</td>\n",
       "      <td>Выполнение работ по ремонту фасада МФЦ на ул. ...</td>\n",
       "      <td>Выполнение работ по ремонту фасада МФЦ на ул. ...</td>\n",
       "      <td>RUB</td>\n",
       "      <td>416000.00</td>\n",
       "    </tr>\n",
       "    <tr>\n",
       "      <th>62911</th>\n",
       "      <td>2018.0</td>\n",
       "      <td>2018-03-01T00:00:00.000</td>\n",
       "      <td>CANCEL_CONTRACT</td>\n",
       "      <td>1.463000e+09</td>\n",
       "      <td>4.826022e+09</td>\n",
       "      <td>482601001.0</td>\n",
       "      <td>ОБЩЕСТВО С ОГРАНИЧЕННОЙ ОТВЕТСТВЕННОСТЬЮ \"ТРИУМФ\"</td>\n",
       "      <td>U</td>\n",
       "      <td>1215214501</td>\n",
       "      <td>121501001.0</td>\n",
       "      <td>[['121526353197', None]]</td>\n",
       "      <td>услуги по переносу на базу системы управления ...</td>\n",
       "      <td>услуги  по переносу на базу системы управления...</td>\n",
       "      <td>RUB</td>\n",
       "      <td>31250.00</td>\n",
       "    </tr>\n",
       "    <tr>\n",
       "      <th>62912</th>\n",
       "      <td>2018.0</td>\n",
       "      <td>2018-02-19T00:00:00.000</td>\n",
       "      <td>WINNER_DEVIATION</td>\n",
       "      <td>8.104000e+09</td>\n",
       "      <td>1.510018e+09</td>\n",
       "      <td>151001001.0</td>\n",
       "      <td>ООО \"Т-2\"</td>\n",
       "      <td>U</td>\n",
       "      <td>5022030921</td>\n",
       "      <td>502201001.0</td>\n",
       "      <td>[['502200312533', None], ['502206194300', None]]</td>\n",
       "      <td>Консервы: маринады овощные</td>\n",
       "      <td>Консервы: маринады овощные \"Лук репчатый марин...</td>\n",
       "      <td>RUB</td>\n",
       "      <td>4011464.28</td>\n",
       "    </tr>\n",
       "    <tr>\n",
       "      <th>62913</th>\n",
       "      <td>2018.0</td>\n",
       "      <td>2018-02-19T00:00:00.000</td>\n",
       "      <td>WINNER_DEVIATION</td>\n",
       "      <td>3.483005e+09</td>\n",
       "      <td>5.043007e+09</td>\n",
       "      <td>504301001.0</td>\n",
       "      <td>ООО «Биосфера»</td>\n",
       "      <td>U</td>\n",
       "      <td>6234117365</td>\n",
       "      <td>623401001.0</td>\n",
       "      <td>[]</td>\n",
       "      <td>Оказание услуг по проведению дезинсекции, дера...</td>\n",
       "      <td>Услуги по дезинфекции, дезинсекции и дератизац...</td>\n",
       "      <td>RUB</td>\n",
       "      <td>583221.86</td>\n",
       "    </tr>\n",
       "    <tr>\n",
       "      <th>62914</th>\n",
       "      <td>2018.0</td>\n",
       "      <td>2018-03-14T00:00:00.000</td>\n",
       "      <td>CANCEL_CONTRACT</td>\n",
       "      <td>3.583001e+09</td>\n",
       "      <td>6.165025e+09</td>\n",
       "      <td>616501001.0</td>\n",
       "      <td>ОБЩЕСТВО С ОГРАНИЧЕННОЙ\\nОТВЕТСТВЕННОСТЬЮ \"МЕД...</td>\n",
       "      <td>U</td>\n",
       "      <td>6686084757</td>\n",
       "      <td>668601001.0</td>\n",
       "      <td>[['667309233858', None]]</td>\n",
       "      <td>Поставка запасных частей и комплектующих к мед...</td>\n",
       "      <td>Кабель\\n  соединительный производства Johnson\\...</td>\n",
       "      <td>RUB</td>\n",
       "      <td>1138221.29</td>\n",
       "    </tr>\n",
       "  </tbody>\n",
       "</table>\n",
       "<p>62646 rows × 15 columns</p>\n",
       "</div>"
      ],
      "text/plain": [
       "       publish_date_year             publish_date            reason  \\\n",
       "143               2014.0  2014-01-21T14:22:11.636   CANCEL_CONTRACT   \n",
       "144               2014.0  2014-01-24T15:47:55.179   CANCEL_CONTRACT   \n",
       "145               2014.0  2014-01-24T17:00:36.339   CANCEL_CONTRACT   \n",
       "146               2014.0  2014-01-27T11:59:04.391   CANCEL_CONTRACT   \n",
       "147               2014.0  2014-01-27T12:17:33.049   CANCEL_CONTRACT   \n",
       "...                  ...                      ...               ...   \n",
       "62910             2018.0  2018-03-01T00:00:00.000   CANCEL_CONTRACT   \n",
       "62911             2018.0  2018-03-01T00:00:00.000   CANCEL_CONTRACT   \n",
       "62912             2018.0  2018-02-19T00:00:00.000  WINNER_DEVIATION   \n",
       "62913             2018.0  2018-02-19T00:00:00.000  WINNER_DEVIATION   \n",
       "62914             2018.0  2018-03-14T00:00:00.000   CANCEL_CONTRACT   \n",
       "\n",
       "       customer_code  customer_inn  customer_kpp  \\\n",
       "143     3.243001e+09  2.901057e+09   290101001.0   \n",
       "144     1.572000e+09  6.027088e+09   602701001.0   \n",
       "145     3.172000e+09  2.225022e+09   222501001.0   \n",
       "146     1.731000e+09  7.701904e+09   770101001.0   \n",
       "147     6.351000e+09  3.908006e+09   390601001.0   \n",
       "...              ...           ...           ...   \n",
       "62910   1.373000e+09  4.003006e+09   400301001.0   \n",
       "62911   1.463000e+09  4.826022e+09   482601001.0   \n",
       "62912   8.104000e+09  1.510018e+09   151001001.0   \n",
       "62913   3.483005e+09  5.043007e+09   504301001.0   \n",
       "62914   3.583001e+09  6.165025e+09   616501001.0   \n",
       "\n",
       "                                      supplier_full_name supplier_type  \\\n",
       "143                        ООО \"Строительные технологии\"             U   \n",
       "144                                    ООО \"РОСПРОМТОРГ\"             U   \n",
       "145    Общество с ограниченной ответственностью \"Гермес\"             U   \n",
       "146                               ООО \"АктивСтройСервис\"             U   \n",
       "147     Общество с ограниченной ответственностью \"ПЕГАС\"             U   \n",
       "...                                                  ...           ...   \n",
       "62910  ОБЩЕСТВО С ОГРАНИЧЕННОЙ ОТВЕТСТВЕННОСТЬЮ \"ОПТО...             U   \n",
       "62911  ОБЩЕСТВО С ОГРАНИЧЕННОЙ ОТВЕТСТВЕННОСТЬЮ \"ТРИУМФ\"             U   \n",
       "62912                                          ООО \"Т-2\"             U   \n",
       "62913                                     ООО «Биосфера»             U   \n",
       "62914  ОБЩЕСТВО С ОГРАНИЧЕННОЙ\\nОТВЕТСТВЕННОСТЬЮ \"МЕД...             U   \n",
       "\n",
       "      supplier_inn  supplier_kpp  \\\n",
       "143     2901235160           NaN   \n",
       "144     6321299175           NaN   \n",
       "145     2225097612   222501001.0   \n",
       "146     7728800929           NaN   \n",
       "147     7713754973   771301001.0   \n",
       "...            ...           ...   \n",
       "62910   4025419633   402501001.0   \n",
       "62911   1215214501   121501001.0   \n",
       "62912   5022030921   502201001.0   \n",
       "62913   6234117365   623401001.0   \n",
       "62914   6686084757   668601001.0   \n",
       "\n",
       "                                      founders_inn_role  \\\n",
       "143                                                  []   \n",
       "144                                                  []   \n",
       "145                                                  []   \n",
       "146                                                  []   \n",
       "147                                                  []   \n",
       "...                                                 ...   \n",
       "62910                          [['402571207928', None]]   \n",
       "62911                          [['121526353197', None]]   \n",
       "62912  [['502200312533', None], ['502206194300', None]]   \n",
       "62913                                                []   \n",
       "62914                          [['667309233858', None]]   \n",
       "\n",
       "                                         purchase_object  \\\n",
       "143    На право заключения гражданско-правового догов...   \n",
       "144    Размещение заказа на право \\nзаключить государ...   \n",
       "145    Поставка продуктов питания (картофель) для нуж...   \n",
       "146    Выполнение ремонта скатной кровли администрати...   \n",
       "147    Поставка бланков «Мореходная книжка» в количес...   \n",
       "...                                                  ...   \n",
       "62910  Выполнение работ по ремонту фасада МФЦ на ул. ...   \n",
       "62911  услуги по переносу на базу системы управления ...   \n",
       "62912                         Консервы: маринады овощные   \n",
       "62913  Оказание услуг по проведению дезинсекции, дера...   \n",
       "62914  Поставка запасных частей и комплектующих к мед...   \n",
       "\n",
       "                                         contract_object  \\\n",
       "143    ремонту крылец педиатрического корпуса по адре...   \n",
       "144    выполнение работ по установке недостающих доро...   \n",
       "145    Поставка продуктов питания (картофель) для нуж...   \n",
       "146    Выполнение работ по ремонту скатной кровли адм...   \n",
       "147    Поставка бланков \"Мореходная книжка\" для нужд ...   \n",
       "...                                                  ...   \n",
       "62910  Выполнение работ по ремонту фасада МФЦ на ул. ...   \n",
       "62911  услуги  по переносу на базу системы управления...   \n",
       "62912  Консервы: маринады овощные \"Лук репчатый марин...   \n",
       "62913  Услуги по дезинфекции, дезинсекции и дератизац...   \n",
       "62914  Кабель\\n  соединительный производства Johnson\\...   \n",
       "\n",
       "      contract_price_currency  contract_price_amount  \n",
       "143                       RUB              990688.90  \n",
       "144                       RUB            13499999.99  \n",
       "145                       RUB              248958.56  \n",
       "146                       RUB             2420682.53  \n",
       "147                       RUB              542741.85  \n",
       "...                       ...                    ...  \n",
       "62910                     RUB              416000.00  \n",
       "62911                     RUB               31250.00  \n",
       "62912                     RUB             4011464.28  \n",
       "62913                     RUB              583221.86  \n",
       "62914                     RUB             1138221.29  \n",
       "\n",
       "[62646 rows x 15 columns]"
      ]
     },
     "execution_count": 9,
     "metadata": {},
     "output_type": "execute_result"
    }
   ],
   "source": [
    "df[df['publish_date'].notna() & df['supplier_inn'].notna()]"
   ]
  },
  {
   "cell_type": "markdown",
   "id": "a20fac42-fac7-48b9-b64d-677aabd37924",
   "metadata": {},
   "source": [
    "> 62 646 записей, где заполнены мастхэв параметры. Будем работать с этим"
   ]
  },
  {
   "cell_type": "markdown",
   "id": "451e09cc-d6ac-4a06-b29c-0030e451c9f1",
   "metadata": {},
   "source": [
    "### 4. Сделаем первичную предобработку данных и создадим рабочую БД"
   ]
  },
  {
   "cell_type": "code",
   "execution_count": null,
   "id": "008ddf1d-2fa6-4660-b420-0fc263cefc75",
   "metadata": {},
   "outputs": [],
   "source": [
    "# Отбираем строки, где даты публикации и ИНН поставщика не равны NaN\n",
    "filtered_df = df[df['publish_date'].notna() & df['supplier_inn'].notna()]\n",
    "\n",
    "# Преобразуем столбец с датой публикации в формат datetime\n",
    "filtered_df['publish_date'] = pd.to_datetime(filtered_df['publish_date'])\n",
    "\n",
    "# Извлекаем год из столбца с датой публикации - эта переменная необходима для дальнейшего анализа\n",
    "filtered_df['year'] = filtered_df['publish_date'].dt.year\n",
    "\n",
    "# Добавляем столбец с годом в начало таблицы\n",
    "filtered_df.insert(0, 'publish_date_year', filtered_df.pop('year'))\n",
    "\n",
    "# Сохраняем новый датасет в файл CSV\n",
    "filtered_df.to_csv('output_dataframe_cleaned.csv', index=False)  # Индекс не сохраняем"
   ]
  },
  {
   "cell_type": "code",
   "execution_count": 1,
   "id": "b65cbbbb-4e80-4ad8-86ce-c6b2aa704c72",
   "metadata": {},
   "outputs": [],
   "source": [
    "# воспользуемся чистым датафреймом\n",
    "file_path = 'output_dataframe_cleaned.csv'\n",
    "df = pd.read_csv(file_path)"
   ]
  },
  {
   "cell_type": "code",
   "execution_count": 16,
   "id": "9a280ff7-3433-4435-9747-8a39dc76ef94",
   "metadata": {
    "scrolled": true
   },
   "outputs": [
    {
     "name": "stdout",
     "output_type": "stream",
     "text": [
      "<class 'pandas.core.frame.DataFrame'>\n",
      "RangeIndex: 62646 entries, 0 to 62645\n",
      "Data columns (total 15 columns):\n",
      " #   Column                   Non-Null Count  Dtype  \n",
      "---  ------                   --------------  -----  \n",
      " 0   publish_date_year        62646 non-null  int64  \n",
      " 1   publish_date             62646 non-null  object \n",
      " 2   reason                   62646 non-null  object \n",
      " 3   customer_code            62646 non-null  float64\n",
      " 4   customer_inn             62646 non-null  float64\n",
      " 5   customer_kpp             62646 non-null  float64\n",
      " 6   supplier_full_name       62646 non-null  object \n",
      " 7   supplier_type            62646 non-null  object \n",
      " 8   supplier_inn             62646 non-null  object \n",
      " 9   supplier_kpp             36362 non-null  float64\n",
      " 10  founders_inn_role        62646 non-null  object \n",
      " 11  purchase_object          58337 non-null  object \n",
      " 12  contract_object          55193 non-null  object \n",
      " 13  contract_price_currency  55459 non-null  object \n",
      " 14  contract_price_amount    55411 non-null  float64\n",
      "dtypes: float64(5), int64(1), object(9)\n",
      "memory usage: 66.2 MB\n"
     ]
    }
   ],
   "source": [
    "# посмотрим на общую инфу\n",
    "df.info(memory_usage='deep')"
   ]
  },
  {
   "cell_type": "markdown",
   "id": "6e087e09-b217-481f-b12f-ed38e9280360",
   "metadata": {},
   "source": [
    "#### Скорректируем типы данных"
   ]
  },
  {
   "cell_type": "code",
   "execution_count": 5,
   "id": "18b6fc8b-0bed-4174-8780-87a313633adc",
   "metadata": {
    "scrolled": true
   },
   "outputs": [],
   "source": [
    "# изменим на string\n",
    "\n",
    "df['publish_date'] = df['publish_date'].astype('string')\n",
    "df['reason'] = df['reason'].astype('string')\n",
    "df['customer_code'] = df['customer_code'].astype('string')\n",
    "df['customer_inn'] = df['customer_inn'].astype('string')\n",
    "df['customer_kpp'] = df['customer_kpp'].astype('string')\n",
    "df['supplier_full_name'] = df['supplier_full_name'].astype('string')\n",
    "df['supplier_type'] = df['supplier_type'].astype('string')\n",
    "df['supplier_inn'] = df['supplier_inn'].astype('string')\n",
    "df['supplier_kpp'] = df['supplier_kpp'].astype('string')\n",
    "df['purchase_object'] = df['purchase_object'].astype('string')\n",
    "df['contract_object'] = df['contract_object'].astype('string')\n",
    "df['contract_price_currency'] = df['contract_price_currency'].astype('string')\n",
    "df['purchase_object'] = df['purchase_object'].astype('string')"
   ]
  },
  {
   "cell_type": "code",
   "execution_count": 6,
   "id": "2aee18b8-633f-4195-a85f-1b8177d21fb0",
   "metadata": {
    "scrolled": true
   },
   "outputs": [],
   "source": [
    "# избавимся от .0 в некоторых столбцах\n",
    "\n",
    "df['customer_code'] = df['customer_code'].str.split('.').str[0]\n",
    "df['customer_inn'] = df['customer_inn'].str.split('.').str[0]\n",
    "df['customer_kpp'] = df['customer_kpp'].str.split('.').str[0]\n",
    "df['supplier_kpp'] = df['supplier_kpp'].str.split('.').str[0]"
   ]
  },
  {
   "cell_type": "code",
   "execution_count": 8,
   "id": "ea4b43e0-a863-4ae7-958a-1d6f79a4ef0c",
   "metadata": {
    "scrolled": true
   },
   "outputs": [],
   "source": [
    "df.to_csv('output_dataframe_cleaned_correct_datatype.csv', index=False)"
   ]
  },
  {
   "cell_type": "markdown",
   "id": "76989708-138f-4a2d-a31b-fcde0b47d62b",
   "metadata": {},
   "source": [
    "> Первичный \"сырой\" датасет загружен в репозиторий"
   ]
  }
 ],
 "metadata": {
  "kernelspec": {
   "display_name": "Python 3 (ipykernel)",
   "language": "python",
   "name": "python3"
  },
  "language_info": {
   "codemirror_mode": {
    "name": "ipython",
    "version": 3
   },
   "file_extension": ".py",
   "mimetype": "text/x-python",
   "name": "python",
   "nbconvert_exporter": "python",
   "pygments_lexer": "ipython3",
   "version": "3.12.2"
  }
 },
 "nbformat": 4,
 "nbformat_minor": 5
}
