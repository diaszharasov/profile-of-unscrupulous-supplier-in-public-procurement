{
 "cells": [
  {
   "cell_type": "markdown",
   "id": "dcddcabe-277a-4928-8dbc-85782f71b9c3",
   "metadata": {},
   "source": [
    "# Как формировал датасеты для анализа недобросовестных ИП и ЮЛ с помощью данных СПАРК "
   ]
  },
  {
   "cell_type": "markdown",
   "id": "f580c6e5-0ac6-4cb4-901c-376056eccd2f",
   "metadata": {},
   "source": [
    "## Необходимые библиотеки"
   ]
  },
  {
   "cell_type": "code",
   "execution_count": 1,
   "id": "0c74b7d1-7041-48cb-82cc-5f463c3050b0",
   "metadata": {},
   "outputs": [],
   "source": [
    "# для работы с БД\n",
    "import pandas as pd\n",
    "import numpy as np\n",
    "# для визуального отслеживания прогресса длительных операций\n",
    "from tqdm import tqdm"
   ]
  },
  {
   "cell_type": "markdown",
   "id": "efe5162d-90c3-43a3-a29e-a6ebf12b3e09",
   "metadata": {},
   "source": [
    "## Датасет по ИП - СПАРК"
   ]
  },
  {
   "cell_type": "markdown",
   "id": "fda0f9ec-865b-4f4d-8cf9-d0e47ce1dbcc",
   "metadata": {},
   "source": [
    "### Суммируем значения по законам - агрегируем информацию по истории закупок"
   ]
  },
  {
   "cell_type": "code",
   "execution_count": 76,
   "id": "213888ca-855e-48c3-b62c-572dc0de4ab6",
   "metadata": {},
   "outputs": [],
   "source": [
    "df2 = pd.read_csv('enterpreneurs_spark_info.csv', encoding='utf-8')"
   ]
  },
  {
   "cell_type": "code",
   "execution_count": 72,
   "id": "44bebe23-d7c2-471a-945d-d935827b9c9a",
   "metadata": {},
   "outputs": [],
   "source": [
    "# Список столбцов, которые необходимо пропустить при агрегации\n",
    "skip_columns = {'reg_date', 'inn', 'region_name', 'region_code', 'main_okved_code', 'main_okved_name'}\n",
    "\n",
    "# Создаем новый DataFrame для результатов\n",
    "result_df = df2[list(skip_columns)].copy()\n",
    "\n",
    "# Получаем список уникальных годов и показателей\n",
    "years = set()\n",
    "indicators = set()\n",
    "\n",
    "for column in df2.columns:\n",
    "    if column in skip_columns:\n",
    "        continue\n",
    "    parts = column.split('_')\n",
    "    if len(parts) < 3:\n",
    "        continue\n",
    "    year = parts[1]\n",
    "    indicator = parts[2]\n",
    "    years.add(year)\n",
    "    indicators.add(indicator)\n",
    "\n",
    "# Преобразуем set в list и сортируем\n",
    "years = sorted(list(years))\n",
    "indicators = sorted(list(indicators))\n",
    "\n",
    "# Обходим каждый год и показатель, агрегируя данные\n",
    "for year in years:\n",
    "    for indicator in indicators:\n",
    "        # Собираем все столбцы, которые соответствуют текущему году и показателю\n",
    "        columns_to_sum = [col for col in df2.columns if f'_{year}_{indicator}' in col]\n",
    "        # Суммируем данные по этим столбцам, игнорируя NaN значения\n",
    "        result_df[f'{year}_{indicator}'] = df2[columns_to_sum].sum(axis=1, min_count=1)"
   ]
  },
  {
   "cell_type": "code",
   "execution_count": 74,
   "id": "126abff2-4b21-4a38-aea9-2d61499a24eb",
   "metadata": {},
   "outputs": [],
   "source": [
    "result_df.to_csv('test_entp_info.csv', index=False)"
   ]
  },
  {
   "cell_type": "markdown",
   "id": "81d64ab2-c398-4dd9-af0a-1ea26f3c5587",
   "metadata": {},
   "source": [
    "### Смэтчим значения с рнп, чтобы определить нужный год (то есть год, когда рассматриваемый поставщик попал в РНП)"
   ]
  },
  {
   "cell_type": "code",
   "execution_count": 18,
   "id": "ae2a03fc-279b-41f3-bce5-6b981c277a11",
   "metadata": {},
   "outputs": [],
   "source": [
    "test_entp_info = pd.read_csv('test_entp_info.csv', encoding='utf-8')"
   ]
  },
  {
   "cell_type": "code",
   "execution_count": 21,
   "id": "c573a89d-894b-41d5-bbbc-53f32e5e052b",
   "metadata": {
    "scrolled": true
   },
   "outputs": [],
   "source": [
    "# Преобразуем столбец 'inn' в строковый тип\n",
    "test_entp_info['inn'] = test_entp_info['inn'].astype(str)\n",
    "# Применяем функцию, которая добавляет '0' в начало строки, если её длина равна 11\n",
    "test_entp_info['inn'] = test_entp_info['inn'].apply(lambda x: '0' + x if len(x) == 11 else x)\n",
    "# Создаём новый DataFrame для сохранения результатов\n",
    "new_entp_info = test_entp_info.copy()\n",
    "# Сохраняем новый DataFrame в CSV файл, указывая, что inn - это строка\n",
    "new_entp_info.to_csv('enterpreneurs_spark_info_laws_agg.csv', index=False)"
   ]
  },
  {
   "cell_type": "code",
   "execution_count": 22,
   "id": "0c29b994-d254-4e1c-8ae0-8147cfffbfe1",
   "metadata": {},
   "outputs": [],
   "source": [
    "rnp_suppliers = pd.read_csv('rnp_suppliers.csv', encoding='utf-8', dtype={'supplier_inn': str})"
   ]
  },
  {
   "cell_type": "code",
   "execution_count": 78,
   "id": "5f3d0ec1-9a1e-49b9-a7cf-727d086e1af6",
   "metadata": {},
   "outputs": [],
   "source": [
    "enterpreneurs_spark = pd.read_csv('enterpreneurs_spark_info_laws_agg.csv', encoding='utf-8', dtype={'inn': str})"
   ]
  },
  {
   "cell_type": "code",
   "execution_count": 24,
   "id": "640b60d6-b02d-445c-8a78-ae221426dcb0",
   "metadata": {},
   "outputs": [],
   "source": [
    "result = pd.merge(rnp_suppliers, enterpreneurs_spark, left_on='supplier_inn', right_on='inn', how='left')"
   ]
  },
  {
   "cell_type": "code",
   "execution_count": 28,
   "id": "338ad8d8-4f73-4b8d-ada2-d0369697b8b5",
   "metadata": {},
   "outputs": [],
   "source": [
    "filtered_result = result[result['supplier_inn'].str.len() == 12] # ИП имеют 12 чисел в ИНН"
   ]
  },
  {
   "cell_type": "code",
   "execution_count": 30,
   "id": "6edf1980-f8a2-421f-a2b0-5f18a4ba620c",
   "metadata": {},
   "outputs": [],
   "source": [
    "filtered_result.to_csv('rnp_enterpreneurs_info.csv', index=False)"
   ]
  },
  {
   "cell_type": "markdown",
   "id": "a5de0f73-9077-4d76-9810-b252989b49e1",
   "metadata": {},
   "source": [
    "### Агрегируем инфу по законам"
   ]
  },
  {
   "cell_type": "code",
   "execution_count": 36,
   "id": "b2f3f163-4320-48ec-aa03-06e62c7f8551",
   "metadata": {},
   "outputs": [],
   "source": [
    "df = pd.read_csv('rnp_enterpreneurs_info.csv', encoding='utf-8', dtype={'supplier_inn': str})\n",
    "\n",
    "# Добавление столбцов signed_number_before_rnp и sum_before_rnp\n",
    "df['signed_number_before_rnp'] = 0\n",
    "df['sum_before_rnp'] = 0\n",
    "\n",
    "# Итерация по каждой строке DataFrame\n",
    "for index, row in df.iterrows():\n",
    "    publish_year = row['publish_date_year']\n",
    "    signed_number_before_rnp = 0\n",
    "    sum_before_rnp = 0\n",
    "    \n",
    "    # Итерация по столбцам DataFrame\n",
    "    for column in df.columns:\n",
    "        if column.endswith('_SignedNumber'):\n",
    "            year = int(column.split('_')[0])\n",
    "            if not pd.isna(row[column]) and year <= int(publish_year):\n",
    "                signed_number_before_rnp += row[column]\n",
    "        elif column.endswith('_Sum'):\n",
    "            year = int(column.split('_')[0])\n",
    "            if not pd.isna(row[column]) and year <= int(publish_year):\n",
    "                sum_before_rnp += row[column]\n",
    "    \n",
    "    # Запись значений в новые столбцы\n",
    "    df.at[index, 'signed_number_before_rnp'] = signed_number_before_rnp\n",
    "    df.at[index, 'sum_before_rnp'] = sum_before_rnp"
   ]
  },
  {
   "cell_type": "code",
   "execution_count": 37,
   "id": "61ae6acd-2910-49fe-bbd1-fd8afad50690",
   "metadata": {
    "scrolled": true
   },
   "outputs": [],
   "source": [
    "df.to_csv('rnp_enterpreneurs_info_laws.csv', index=False)"
   ]
  },
  {
   "cell_type": "code",
   "execution_count": 41,
   "id": "48d5759f-bd67-4a6c-b70a-9204992fb8dd",
   "metadata": {
    "scrolled": true
   },
   "outputs": [
    {
     "data": {
      "text/html": [
       "<div>\n",
       "<style scoped>\n",
       "    .dataframe tbody tr th:only-of-type {\n",
       "        vertical-align: middle;\n",
       "    }\n",
       "\n",
       "    .dataframe tbody tr th {\n",
       "        vertical-align: top;\n",
       "    }\n",
       "\n",
       "    .dataframe thead th {\n",
       "        text-align: right;\n",
       "    }\n",
       "</style>\n",
       "<table border=\"1\" class=\"dataframe\">\n",
       "  <thead>\n",
       "    <tr style=\"text-align: right;\">\n",
       "      <th></th>\n",
       "      <th>supplier_inn</th>\n",
       "      <th>reg_date</th>\n",
       "      <th>region_code</th>\n",
       "      <th>region_name</th>\n",
       "      <th>main_okved_code</th>\n",
       "      <th>main_okved_name</th>\n",
       "      <th>rnp_entry_date_year</th>\n",
       "      <th>rnp_entry_date</th>\n",
       "      <th>rnp_reason</th>\n",
       "      <th>contract_price_amount</th>\n",
       "      <th>history_signed_contract_before_rnp</th>\n",
       "      <th>history_sum_price_before_rnp</th>\n",
       "    </tr>\n",
       "  </thead>\n",
       "  <tbody>\n",
       "    <tr>\n",
       "      <th>0</th>\n",
       "      <td>790100305411</td>\n",
       "      <td>2007-07-12</td>\n",
       "      <td>99.0</td>\n",
       "      <td>Еврейская автономная область</td>\n",
       "      <td>95.29</td>\n",
       "      <td>Ремонт прочих предметов личного потребления и ...</td>\n",
       "      <td>2018</td>\n",
       "      <td>2018-03-02</td>\n",
       "      <td>CANCEL_CONTRACT</td>\n",
       "      <td>60000.00</td>\n",
       "      <td>1</td>\n",
       "      <td>60000</td>\n",
       "    </tr>\n",
       "    <tr>\n",
       "      <th>1</th>\n",
       "      <td>470315042539</td>\n",
       "      <td>2012-08-08</td>\n",
       "      <td>41.0</td>\n",
       "      <td>Ленинградская область</td>\n",
       "      <td>18.12</td>\n",
       "      <td>Прочие виды полиграфической деятельности</td>\n",
       "      <td>2018</td>\n",
       "      <td>2018-03-02</td>\n",
       "      <td>CANCEL_CONTRACT</td>\n",
       "      <td>95000.00</td>\n",
       "      <td>25</td>\n",
       "      <td>8760426</td>\n",
       "    </tr>\n",
       "    <tr>\n",
       "      <th>2</th>\n",
       "      <td>231710329702</td>\n",
       "      <td>2012-06-13</td>\n",
       "      <td>3.0</td>\n",
       "      <td>Краснодарский край</td>\n",
       "      <td>77.11</td>\n",
       "      <td>Аренда и лизинг легковых автомобилей и легких ...</td>\n",
       "      <td>2018</td>\n",
       "      <td>2018-03-01</td>\n",
       "      <td>WINNER_DEVIATION</td>\n",
       "      <td>2649830.00</td>\n",
       "      <td>161</td>\n",
       "      <td>60026536</td>\n",
       "    </tr>\n",
       "    <tr>\n",
       "      <th>3</th>\n",
       "      <td>665912504111</td>\n",
       "      <td>2016-02-10</td>\n",
       "      <td>65.0</td>\n",
       "      <td>Свердловская область</td>\n",
       "      <td>73.11</td>\n",
       "      <td>Деятельность рекламных агентств</td>\n",
       "      <td>2018</td>\n",
       "      <td>2018-03-02</td>\n",
       "      <td>WINNER_DEVIATION</td>\n",
       "      <td>508640.00</td>\n",
       "      <td>29</td>\n",
       "      <td>121304151</td>\n",
       "    </tr>\n",
       "    <tr>\n",
       "      <th>4</th>\n",
       "      <td>260905656233</td>\n",
       "      <td>2016-05-25</td>\n",
       "      <td>7.0</td>\n",
       "      <td>Ставропольский край</td>\n",
       "      <td>33.12</td>\n",
       "      <td>Ремонт машин и оборудования</td>\n",
       "      <td>2018</td>\n",
       "      <td>2018-03-01</td>\n",
       "      <td>CANCEL_CONTRACT</td>\n",
       "      <td>10722.50</td>\n",
       "      <td>15</td>\n",
       "      <td>823499</td>\n",
       "    </tr>\n",
       "    <tr>\n",
       "      <th>...</th>\n",
       "      <td>...</td>\n",
       "      <td>...</td>\n",
       "      <td>...</td>\n",
       "      <td>...</td>\n",
       "      <td>...</td>\n",
       "      <td>...</td>\n",
       "      <td>...</td>\n",
       "      <td>...</td>\n",
       "      <td>...</td>\n",
       "      <td>...</td>\n",
       "      <td>...</td>\n",
       "      <td>...</td>\n",
       "    </tr>\n",
       "    <tr>\n",
       "      <th>13192</th>\n",
       "      <td>591107948760</td>\n",
       "      <td>2015-12-01</td>\n",
       "      <td>57.0</td>\n",
       "      <td>Пермский край</td>\n",
       "      <td>46.46</td>\n",
       "      <td>Торговля оптовая фармацевтической продукцией</td>\n",
       "      <td>2018</td>\n",
       "      <td>2018-02-08</td>\n",
       "      <td>WINNER_DEVIATION</td>\n",
       "      <td>284166.00</td>\n",
       "      <td>8</td>\n",
       "      <td>8713652</td>\n",
       "    </tr>\n",
       "    <tr>\n",
       "      <th>13193</th>\n",
       "      <td>595000381910</td>\n",
       "      <td>2015-09-15</td>\n",
       "      <td>57.0</td>\n",
       "      <td>Пермский край</td>\n",
       "      <td>45.20</td>\n",
       "      <td>Техническое обслуживание и ремонт автотранспор...</td>\n",
       "      <td>2018</td>\n",
       "      <td>2018-02-08</td>\n",
       "      <td>CANCEL_CONTRACT</td>\n",
       "      <td>346913.74</td>\n",
       "      <td>30</td>\n",
       "      <td>14978033</td>\n",
       "    </tr>\n",
       "    <tr>\n",
       "      <th>13194</th>\n",
       "      <td>741806019878</td>\n",
       "      <td>2016-02-02</td>\n",
       "      <td>75.0</td>\n",
       "      <td>Челябинская область</td>\n",
       "      <td>46.42</td>\n",
       "      <td>Торговля оптовая одеждой и обувью</td>\n",
       "      <td>2018</td>\n",
       "      <td>2018-02-19</td>\n",
       "      <td>WINNER_DEVIATION</td>\n",
       "      <td>63645.93</td>\n",
       "      <td>8</td>\n",
       "      <td>561468</td>\n",
       "    </tr>\n",
       "    <tr>\n",
       "      <th>13195</th>\n",
       "      <td>662302491681</td>\n",
       "      <td>2016-04-06</td>\n",
       "      <td>65.0</td>\n",
       "      <td>Свердловская область</td>\n",
       "      <td>01.13.3</td>\n",
       "      <td>Выращивание столовых корнеплодных и клубнеплод...</td>\n",
       "      <td>2018</td>\n",
       "      <td>2018-02-19</td>\n",
       "      <td>WINNER_DEVIATION</td>\n",
       "      <td>576270.00</td>\n",
       "      <td>0</td>\n",
       "      <td>0</td>\n",
       "    </tr>\n",
       "    <tr>\n",
       "      <th>13196</th>\n",
       "      <td>667327104319</td>\n",
       "      <td>2017-01-20</td>\n",
       "      <td>65.0</td>\n",
       "      <td>Свердловская область</td>\n",
       "      <td>46.90</td>\n",
       "      <td>Торговля оптовая неспециализированная</td>\n",
       "      <td>2018</td>\n",
       "      <td>2018-02-19</td>\n",
       "      <td>WINNER_DEVIATION</td>\n",
       "      <td>1258000.00</td>\n",
       "      <td>5</td>\n",
       "      <td>1585672</td>\n",
       "    </tr>\n",
       "  </tbody>\n",
       "</table>\n",
       "<p>13197 rows × 12 columns</p>\n",
       "</div>"
      ],
      "text/plain": [
       "       supplier_inn    reg_date  region_code                   region_name  \\\n",
       "0      790100305411  2007-07-12         99.0  Еврейская автономная область   \n",
       "1      470315042539  2012-08-08         41.0         Ленинградская область   \n",
       "2      231710329702  2012-06-13          3.0            Краснодарский край   \n",
       "3      665912504111  2016-02-10         65.0          Свердловская область   \n",
       "4      260905656233  2016-05-25          7.0           Ставропольский край   \n",
       "...             ...         ...          ...                           ...   \n",
       "13192  591107948760  2015-12-01         57.0                 Пермский край   \n",
       "13193  595000381910  2015-09-15         57.0                 Пермский край   \n",
       "13194  741806019878  2016-02-02         75.0           Челябинская область   \n",
       "13195  662302491681  2016-04-06         65.0          Свердловская область   \n",
       "13196  667327104319  2017-01-20         65.0          Свердловская область   \n",
       "\n",
       "      main_okved_code                                    main_okved_name  \\\n",
       "0               95.29  Ремонт прочих предметов личного потребления и ...   \n",
       "1               18.12           Прочие виды полиграфической деятельности   \n",
       "2               77.11  Аренда и лизинг легковых автомобилей и легких ...   \n",
       "3               73.11                    Деятельность рекламных агентств   \n",
       "4               33.12                        Ремонт машин и оборудования   \n",
       "...               ...                                                ...   \n",
       "13192           46.46       Торговля оптовая фармацевтической продукцией   \n",
       "13193           45.20  Техническое обслуживание и ремонт автотранспор...   \n",
       "13194           46.42                  Торговля оптовая одеждой и обувью   \n",
       "13195         01.13.3  Выращивание столовых корнеплодных и клубнеплод...   \n",
       "13196           46.90              Торговля оптовая неспециализированная   \n",
       "\n",
       "       rnp_entry_date_year rnp_entry_date        rnp_reason  \\\n",
       "0                     2018     2018-03-02   CANCEL_CONTRACT   \n",
       "1                     2018     2018-03-02   CANCEL_CONTRACT   \n",
       "2                     2018     2018-03-01  WINNER_DEVIATION   \n",
       "3                     2018     2018-03-02  WINNER_DEVIATION   \n",
       "4                     2018     2018-03-01   CANCEL_CONTRACT   \n",
       "...                    ...            ...               ...   \n",
       "13192                 2018     2018-02-08  WINNER_DEVIATION   \n",
       "13193                 2018     2018-02-08   CANCEL_CONTRACT   \n",
       "13194                 2018     2018-02-19  WINNER_DEVIATION   \n",
       "13195                 2018     2018-02-19  WINNER_DEVIATION   \n",
       "13196                 2018     2018-02-19  WINNER_DEVIATION   \n",
       "\n",
       "       contract_price_amount  history_signed_contract_before_rnp  \\\n",
       "0                   60000.00                                   1   \n",
       "1                   95000.00                                  25   \n",
       "2                 2649830.00                                 161   \n",
       "3                  508640.00                                  29   \n",
       "4                   10722.50                                  15   \n",
       "...                      ...                                 ...   \n",
       "13192              284166.00                                   8   \n",
       "13193              346913.74                                  30   \n",
       "13194               63645.93                                   8   \n",
       "13195              576270.00                                   0   \n",
       "13196             1258000.00                                   5   \n",
       "\n",
       "       history_sum_price_before_rnp  \n",
       "0                             60000  \n",
       "1                           8760426  \n",
       "2                          60026536  \n",
       "3                         121304151  \n",
       "4                            823499  \n",
       "...                             ...  \n",
       "13192                       8713652  \n",
       "13193                      14978033  \n",
       "13194                        561468  \n",
       "13195                             0  \n",
       "13196                       1585672  \n",
       "\n",
       "[13197 rows x 12 columns]"
      ]
     },
     "execution_count": 41,
     "metadata": {},
     "output_type": "execute_result"
    }
   ],
   "source": [
    "# Выбираем нужные столбцы и переименовываем их\n",
    "new_df = df[['supplier_inn', 'reg_date', 'region_code', 'region_name', 'main_okved_code', 'main_okved_name',\n",
    "             'publish_date_year', 'publish_date', 'reason', 'contract_price_amount',\n",
    "             'signed_number_before_rnp', 'sum_before_rnp']].copy()\n",
    "\n",
    "new_df.rename(columns={\n",
    "    'publish_date_year': 'rnp_entry_date_year',\n",
    "    'publish_date': 'rnp_entry_date',\n",
    "    'reason': 'rnp_reason',\n",
    "    'signed_number_before_rnp': 'history_signed_contract_before_rnp',\n",
    "    'sum_before_rnp': 'history_sum_price_before_rnp'\n",
    "}, inplace=True)\n",
    "\n",
    "new_df"
   ]
  },
  {
   "cell_type": "code",
   "execution_count": 44,
   "id": "c13e359b-23f2-4aec-bff6-fbd3a6d62afb",
   "metadata": {},
   "outputs": [],
   "source": [
    "new_df.to_csv('rnp_enterpreneurs_info_final.csv', index=False)"
   ]
  },
  {
   "cell_type": "markdown",
   "id": "1c84a450-5053-4a5b-9197-3f35df177486",
   "metadata": {},
   "source": [
    "### Найдем разницу в датах реги и вхождения в РНП"
   ]
  },
  {
   "cell_type": "code",
   "execution_count": 50,
   "id": "293117c1-c879-461d-bd14-d6d07f812b6f",
   "metadata": {},
   "outputs": [],
   "source": [
    "new_df['reg_date'] = pd.to_datetime(new_df['reg_date'])\n",
    "new_df['rnp_entry_date'] = pd.to_datetime(new_df['rnp_entry_date'])\n",
    "\n",
    "# Вычисление разницы в годах\n",
    "new_df['date_diff_years'] = (new_df['rnp_entry_date'].dt.year - new_df['reg_date'].dt.year)"
   ]
  },
  {
   "cell_type": "code",
   "execution_count": 53,
   "id": "6305dd45-2125-42b6-875f-39a74c2b1cb6",
   "metadata": {
    "scrolled": true
   },
   "outputs": [],
   "source": [
    "new_df['date_diff'] = round(new_df['date_diff_days'] / 365, 1)"
   ]
  },
  {
   "cell_type": "code",
   "execution_count": 52,
   "id": "f0c10e1f-4fcd-4eed-98d2-14a33afed266",
   "metadata": {},
   "outputs": [
    {
     "name": "stdout",
     "output_type": "stream",
     "text": [
      "Количество записей, где rnp_entry_date < reg_date: 1115\n"
     ]
    }
   ],
   "source": [
    "# Подсчет количества записей, где rnp_entry_date < reg_date\n",
    "count_records = (new_df['rnp_entry_date'] < new_df['reg_date']).sum()\n",
    "\n",
    "print(\"Количество записей, где rnp_entry_date < reg_date:\", count_records)"
   ]
  },
  {
   "cell_type": "code",
   "execution_count": 58,
   "id": "62b44adc-b7b7-4805-9297-1826a2749ad4",
   "metadata": {},
   "outputs": [],
   "source": [
    "new_df['date_diff'] = new_df['date_diff'].apply(lambda x: np.nan if x < 0 else x)"
   ]
  },
  {
   "cell_type": "code",
   "execution_count": 61,
   "id": "f247e65b-41c6-4ad0-a200-d204ae3043ec",
   "metadata": {},
   "outputs": [],
   "source": [
    "# Выбираем нужные столбцы и переименовываем их\n",
    "new_new_df = new_df[['supplier_inn', 'reg_date', 'region_code', 'region_name', 'main_okved_code', 'main_okved_name',\n",
    "             'rnp_entry_date_year', 'rnp_entry_date', 'date_diff', 'rnp_reason', 'contract_price_amount',\n",
    "             'history_signed_contract_before_rnp', 'history_sum_price_before_rnp']].copy()\n",
    "\n",
    "new_new_df.rename(columns={\n",
    "    'date_diff': 'date_diff_between_reg_entry'\n",
    "}, inplace=True)"
   ]
  },
  {
   "cell_type": "code",
   "execution_count": 63,
   "id": "a4a5b427-2bca-4acd-a0d7-91bbd06b5584",
   "metadata": {},
   "outputs": [],
   "source": [
    "new_new_df.to_csv('rnp_enterpreneurs_info_final.csv', index=False)"
   ]
  },
  {
   "cell_type": "code",
   "execution_count": 64,
   "id": "b256f8c8-a25f-4ddc-8301-bb2d0196e548",
   "metadata": {},
   "outputs": [],
   "source": [
    "df = pd.read_csv('comp_main_spark_info.csv', encoding='utf-8', dtype={'inn': str})\n",
    "\n",
    "# Список столбцов, которые необходимо пропустить при агрегации\n",
    "skip_columns = {'reg_date', 'shortname','inn', 'kpp', 'region_name', 'region_code', 'main_okved_code', 'main_okved_name'}\n",
    "\n",
    "# Создаем новый DataFrame для результатов\n",
    "result_df = df[list(skip_columns)].copy()\n",
    "\n",
    "# Получаем список уникальных годов и показателей\n",
    "years = set()\n",
    "indicators = set()\n",
    "\n",
    "for column in df.columns:\n",
    "    if column in skip_columns:\n",
    "        continue\n",
    "    parts = column.split('_')\n",
    "    if len(parts) < 3:\n",
    "        continue\n",
    "    year = parts[1]\n",
    "    indicator = parts[2]\n",
    "    years.add(year)\n",
    "    indicators.add(indicator)\n",
    "\n",
    "# Преобразуем set в list и сортируем\n",
    "years = sorted(list(years))\n",
    "indicators = sorted(list(indicators))\n",
    "\n",
    "# Обходим каждый год и показатель, агрегируя данные\n",
    "for year in years:\n",
    "    for indicator in indicators:\n",
    "        # Собираем все столбцы, которые соответствуют текущему году и показателю\n",
    "        columns_to_sum = [col for col in df.columns if f'_{year}_{indicator}' in col]\n",
    "        # Суммируем данные по этим столбцам, игнорируя NaN значения\n",
    "        result_df[f'{year}_{indicator}'] = df[columns_to_sum].sum(axis=1, min_count=1)"
   ]
  },
  {
   "cell_type": "code",
   "execution_count": 65,
   "id": "1b1a7dd5-0fff-45a9-9e82-9df1c2a27ff5",
   "metadata": {},
   "outputs": [],
   "source": [
    "result_df.to_csv('test_comp_info.csv', index=False)"
   ]
  },
  {
   "cell_type": "code",
   "execution_count": 73,
   "id": "b23b3299-cb37-4c1d-99a7-7cd0a67689b5",
   "metadata": {},
   "outputs": [
    {
     "data": {
      "text/plain": [
       "inn\n",
       "8603213388    2\n",
       "7722483470    2\n",
       "5005067209    2\n",
       "5047169562    2\n",
       "7452035322    1\n",
       "             ..\n",
       "4823070018    1\n",
       "4823061366    1\n",
       "4823060500    1\n",
       "4823057264    1\n",
       "9909201656    1\n",
       "Name: count, Length: 23695, dtype: int64"
      ]
     },
     "execution_count": 73,
     "metadata": {},
     "output_type": "execute_result"
    }
   ],
   "source": [
    "result_df['inn'].value_counts()"
   ]
  },
  {
   "cell_type": "markdown",
   "id": "ff90d0cd-b74b-432d-8065-a66118369127",
   "metadata": {},
   "source": [
    "откуда то были дубликаты, нужно их убрать"
   ]
  },
  {
   "cell_type": "markdown",
   "id": "bae2cc4d-6bb7-4283-a844-5f2e45843b7b",
   "metadata": {},
   "source": [
    "### Небольшая корректировка - нужно проработать ОКВЭД. Приведем ОКВЭД к единой структуре (классам)"
   ]
  },
  {
   "cell_type": "code",
   "execution_count": 4,
   "id": "be444d32-4099-4710-87ed-208ea481fac0",
   "metadata": {},
   "outputs": [],
   "source": [
    "df_entp = pd.read_csv('rnp_enterpreneurs_info_final.csv',\n",
    "                      encoding='utf-8',\n",
    "                      dtype={'supplier_inn': str})"
   ]
  },
  {
   "cell_type": "code",
   "execution_count": 49,
   "id": "cf9a1a4a-a93e-43b1-bdf8-597b63643df2",
   "metadata": {},
   "outputs": [],
   "source": [
    "new_column = df_entp['main_okved_code'].str[:2]\n",
    "# Выбираем позицию, где должен быть вставлен новый столбец (после 5-го столбца, индексация с нуля)\n",
    "position = 6\n",
    "\n",
    "# Вставляем столбец\n",
    "df_entp.insert(loc=position, column='main_okved_code_class', value=new_column)"
   ]
  },
  {
   "cell_type": "code",
   "execution_count": 26,
   "id": "00d7c5e8-cd3d-4727-b356-562e44c2fc58",
   "metadata": {},
   "outputs": [],
   "source": [
    "# используем файл со структурой ОКВЭД\n",
    "check_okved = pd.read_csv(r'D:\\Рабочий стол\\data-20240301-structure-20180402 (4).txt', \n",
    "                          encoding='utf-8', \n",
    "                          sep=';',\n",
    "                          header=None,\n",
    "                          names=['ОКВЭД', 'Коды ОКВЭД', 'Наименование разделов'])"
   ]
  },
  {
   "cell_type": "code",
   "execution_count": 28,
   "id": "71392444-77c1-4ff1-b455-cd72012b2662",
   "metadata": {},
   "outputs": [],
   "source": [
    "check_okved.to_csv('okved_structure.csv', index=False)"
   ]
  },
  {
   "cell_type": "markdown",
   "id": "5224439a-342b-4e0c-aaef-3db87a7c1a80",
   "metadata": {},
   "source": [
    "Смэтчим название, соответствующее выведенному классу ОКВЭД"
   ]
  },
  {
   "cell_type": "code",
   "execution_count": 52,
   "id": "072c345b-9d4f-4010-a78e-1acac73057a9",
   "metadata": {},
   "outputs": [],
   "source": [
    "result = pd.merge(df_entp, check_okved[['Коды ОКВЭД', 'Наименование разделов']], \n",
    "                  left_on='main_okved_code_class', right_on='Коды ОКВЭД', how='left').drop(columns='Коды ОКВЭД')"
   ]
  },
  {
   "cell_type": "code",
   "execution_count": 58,
   "id": "be0debb4-4264-4e6d-940d-a66017fe3301",
   "metadata": {},
   "outputs": [],
   "source": [
    "new_column = result['Наименование разделов']\n",
    "# Выбираем позицию, где должен быть вставлен новый столбец (после 6-го столбца, индексация с нуля)\n",
    "position = 7\n",
    "# Вставляем столбец\n",
    "result.insert(loc=position, column='main_okved_name_class', value=new_column)"
   ]
  },
  {
   "cell_type": "code",
   "execution_count": 60,
   "id": "53dab2d2-ab13-4a96-a7f2-d1f126172b3c",
   "metadata": {},
   "outputs": [],
   "source": [
    "result.drop('Наименование разделов', axis=1, inplace=True)"
   ]
  },
  {
   "cell_type": "code",
   "execution_count": 62,
   "id": "fc0967d3-63b1-4e55-b1b8-29b6153e73ac",
   "metadata": {
    "scrolled": true
   },
   "outputs": [],
   "source": [
    "result.to_csv('rnp_enterpreneurs_info_final_final.csv', index=False)"
   ]
  },
  {
   "cell_type": "markdown",
   "id": "822262cf-b655-4912-9703-c4f27b2b8080",
   "metadata": {},
   "source": [
    "> Это финальный датасет по ИП, по которому будет проводиться анализ. Загружен в папку"
   ]
  },
  {
   "cell_type": "markdown",
   "id": "fc2f493c-729b-4109-9830-05449ff53069",
   "metadata": {},
   "source": [
    "## Датасет по ЮЛ - СПАРК"
   ]
  },
  {
   "cell_type": "markdown",
   "id": "3cb0d49a-e122-4afb-b8d8-b472821014ac",
   "metadata": {},
   "source": [
    "### Проделаем по аналогии, как с ИП"
   ]
  },
  {
   "cell_type": "code",
   "execution_count": 82,
   "id": "a7e4b1c0-8566-45bb-94df-39bb83789601",
   "metadata": {},
   "outputs": [],
   "source": [
    "result_df = result_df.drop_duplicates(subset='inn', keep='first')"
   ]
  },
  {
   "cell_type": "code",
   "execution_count": 85,
   "id": "8a58e80a-8691-4b49-a4be-956a8fe099a1",
   "metadata": {
    "scrolled": true
   },
   "outputs": [
    {
     "data": {
      "text/html": [
       "<div>\n",
       "<style scoped>\n",
       "    .dataframe tbody tr th:only-of-type {\n",
       "        vertical-align: middle;\n",
       "    }\n",
       "\n",
       "    .dataframe tbody tr th {\n",
       "        vertical-align: top;\n",
       "    }\n",
       "\n",
       "    .dataframe thead th {\n",
       "        text-align: right;\n",
       "    }\n",
       "</style>\n",
       "<table border=\"1\" class=\"dataframe\">\n",
       "  <thead>\n",
       "    <tr style=\"text-align: right;\">\n",
       "      <th></th>\n",
       "      <th>supplier_inn</th>\n",
       "      <th>publish_date_year</th>\n",
       "      <th>publish_date</th>\n",
       "      <th>reason</th>\n",
       "      <th>contract_price_amount</th>\n",
       "      <th>main_okved_name</th>\n",
       "      <th>shortname</th>\n",
       "      <th>reg_date</th>\n",
       "      <th>region_code</th>\n",
       "      <th>inn</th>\n",
       "      <th>...</th>\n",
       "      <th>2020_SignedNumber</th>\n",
       "      <th>2020_Sum</th>\n",
       "      <th>2021_SignedNumber</th>\n",
       "      <th>2021_Sum</th>\n",
       "      <th>2022_SignedNumber</th>\n",
       "      <th>2022_Sum</th>\n",
       "      <th>2023_SignedNumber</th>\n",
       "      <th>2023_Sum</th>\n",
       "      <th>2024_SignedNumber</th>\n",
       "      <th>2024_Sum</th>\n",
       "    </tr>\n",
       "  </thead>\n",
       "  <tbody>\n",
       "    <tr>\n",
       "      <th>0</th>\n",
       "      <td>2901235160</td>\n",
       "      <td>2014</td>\n",
       "      <td>2014-01-21</td>\n",
       "      <td>CANCEL_CONTRACT</td>\n",
       "      <td>990688.90</td>\n",
       "      <td>Производство электромонтажных, санитарно-техни...</td>\n",
       "      <td>ООО \"СТРОИТЕЛЬНЫЕ ТЕХНОЛОГИИ\"</td>\n",
       "      <td>2013-02-26</td>\n",
       "      <td>11.0</td>\n",
       "      <td>2901235160</td>\n",
       "      <td>...</td>\n",
       "      <td>NaN</td>\n",
       "      <td>NaN</td>\n",
       "      <td>NaN</td>\n",
       "      <td>NaN</td>\n",
       "      <td>NaN</td>\n",
       "      <td>NaN</td>\n",
       "      <td>NaN</td>\n",
       "      <td>NaN</td>\n",
       "      <td>NaN</td>\n",
       "      <td>NaN</td>\n",
       "    </tr>\n",
       "    <tr>\n",
       "      <th>1</th>\n",
       "      <td>6321299175</td>\n",
       "      <td>2014</td>\n",
       "      <td>2014-01-24</td>\n",
       "      <td>CANCEL_CONTRACT</td>\n",
       "      <td>13499999.99</td>\n",
       "      <td>Торговля автомобильными деталями, узлами и при...</td>\n",
       "      <td>ООО \"РОСПРОМТОРГ\"</td>\n",
       "      <td>2012-10-09</td>\n",
       "      <td>3.0</td>\n",
       "      <td>6321299175</td>\n",
       "      <td>...</td>\n",
       "      <td>NaN</td>\n",
       "      <td>NaN</td>\n",
       "      <td>NaN</td>\n",
       "      <td>NaN</td>\n",
       "      <td>NaN</td>\n",
       "      <td>NaN</td>\n",
       "      <td>NaN</td>\n",
       "      <td>NaN</td>\n",
       "      <td>NaN</td>\n",
       "      <td>NaN</td>\n",
       "    </tr>\n",
       "    <tr>\n",
       "      <th>2</th>\n",
       "      <td>2225097612</td>\n",
       "      <td>2014</td>\n",
       "      <td>2014-01-24</td>\n",
       "      <td>CANCEL_CONTRACT</td>\n",
       "      <td>248958.56</td>\n",
       "      <td>Аренда и лизинг легковых автомобилей и легких ...</td>\n",
       "      <td>ООО \"ГЕРМЕС\"</td>\n",
       "      <td>2008-10-06</td>\n",
       "      <td>1.0</td>\n",
       "      <td>2225097612</td>\n",
       "      <td>...</td>\n",
       "      <td>NaN</td>\n",
       "      <td>NaN</td>\n",
       "      <td>NaN</td>\n",
       "      <td>NaN</td>\n",
       "      <td>NaN</td>\n",
       "      <td>NaN</td>\n",
       "      <td>NaN</td>\n",
       "      <td>NaN</td>\n",
       "      <td>NaN</td>\n",
       "      <td>NaN</td>\n",
       "    </tr>\n",
       "    <tr>\n",
       "      <th>3</th>\n",
       "      <td>7728800929</td>\n",
       "      <td>2014</td>\n",
       "      <td>2014-01-27</td>\n",
       "      <td>CANCEL_CONTRACT</td>\n",
       "      <td>2420682.53</td>\n",
       "      <td>Строительство жилых и нежилых зданий</td>\n",
       "      <td>ООО \"АКТИВСТРОЙСЕРВИС\"</td>\n",
       "      <td>2012-03-12</td>\n",
       "      <td>45.0</td>\n",
       "      <td>7728800929</td>\n",
       "      <td>...</td>\n",
       "      <td>NaN</td>\n",
       "      <td>NaN</td>\n",
       "      <td>NaN</td>\n",
       "      <td>NaN</td>\n",
       "      <td>NaN</td>\n",
       "      <td>NaN</td>\n",
       "      <td>NaN</td>\n",
       "      <td>NaN</td>\n",
       "      <td>NaN</td>\n",
       "      <td>NaN</td>\n",
       "    </tr>\n",
       "    <tr>\n",
       "      <th>4</th>\n",
       "      <td>7713754973</td>\n",
       "      <td>2014</td>\n",
       "      <td>2014-01-27</td>\n",
       "      <td>CANCEL_CONTRACT</td>\n",
       "      <td>542741.85</td>\n",
       "      <td>Деятельность издательская</td>\n",
       "      <td>ООО \"ПЕГАС\"</td>\n",
       "      <td>2012-09-27</td>\n",
       "      <td>45.0</td>\n",
       "      <td>7713754973</td>\n",
       "      <td>...</td>\n",
       "      <td>NaN</td>\n",
       "      <td>NaN</td>\n",
       "      <td>NaN</td>\n",
       "      <td>NaN</td>\n",
       "      <td>NaN</td>\n",
       "      <td>NaN</td>\n",
       "      <td>NaN</td>\n",
       "      <td>NaN</td>\n",
       "      <td>NaN</td>\n",
       "      <td>NaN</td>\n",
       "    </tr>\n",
       "    <tr>\n",
       "      <th>...</th>\n",
       "      <td>...</td>\n",
       "      <td>...</td>\n",
       "      <td>...</td>\n",
       "      <td>...</td>\n",
       "      <td>...</td>\n",
       "      <td>...</td>\n",
       "      <td>...</td>\n",
       "      <td>...</td>\n",
       "      <td>...</td>\n",
       "      <td>...</td>\n",
       "      <td>...</td>\n",
       "      <td>...</td>\n",
       "      <td>...</td>\n",
       "      <td>...</td>\n",
       "      <td>...</td>\n",
       "      <td>...</td>\n",
       "      <td>...</td>\n",
       "      <td>...</td>\n",
       "      <td>...</td>\n",
       "      <td>...</td>\n",
       "      <td>...</td>\n",
       "    </tr>\n",
       "    <tr>\n",
       "      <th>62570</th>\n",
       "      <td>4025419633</td>\n",
       "      <td>2018</td>\n",
       "      <td>2018-03-01</td>\n",
       "      <td>CANCEL_CONTRACT</td>\n",
       "      <td>416000.00</td>\n",
       "      <td>Консультирование по вопросам коммерческой деят...</td>\n",
       "      <td>ООО \"ОПТОВЫЙ ДОМ\"</td>\n",
       "      <td>2008-11-01</td>\n",
       "      <td>29.0</td>\n",
       "      <td>4025419633</td>\n",
       "      <td>...</td>\n",
       "      <td>NaN</td>\n",
       "      <td>NaN</td>\n",
       "      <td>NaN</td>\n",
       "      <td>NaN</td>\n",
       "      <td>NaN</td>\n",
       "      <td>NaN</td>\n",
       "      <td>NaN</td>\n",
       "      <td>NaN</td>\n",
       "      <td>NaN</td>\n",
       "      <td>NaN</td>\n",
       "    </tr>\n",
       "    <tr>\n",
       "      <th>62571</th>\n",
       "      <td>1215214501</td>\n",
       "      <td>2018</td>\n",
       "      <td>2018-03-01</td>\n",
       "      <td>CANCEL_CONTRACT</td>\n",
       "      <td>31250.00</td>\n",
       "      <td>Деятельность по обработке данных, предоставлен...</td>\n",
       "      <td>ООО \"ТРИУМФ\"</td>\n",
       "      <td>2016-11-23</td>\n",
       "      <td>36.0</td>\n",
       "      <td>1215214501</td>\n",
       "      <td>...</td>\n",
       "      <td>NaN</td>\n",
       "      <td>NaN</td>\n",
       "      <td>NaN</td>\n",
       "      <td>NaN</td>\n",
       "      <td>NaN</td>\n",
       "      <td>NaN</td>\n",
       "      <td>NaN</td>\n",
       "      <td>NaN</td>\n",
       "      <td>NaN</td>\n",
       "      <td>NaN</td>\n",
       "    </tr>\n",
       "    <tr>\n",
       "      <th>62572</th>\n",
       "      <td>5022030921</td>\n",
       "      <td>2018</td>\n",
       "      <td>2018-02-19</td>\n",
       "      <td>WINNER_DEVIATION</td>\n",
       "      <td>4011464.28</td>\n",
       "      <td>Торговля оптовая фруктами и овощами</td>\n",
       "      <td>ООО \"Т-2\"</td>\n",
       "      <td>2001-12-21</td>\n",
       "      <td>46.0</td>\n",
       "      <td>5022030921</td>\n",
       "      <td>...</td>\n",
       "      <td>NaN</td>\n",
       "      <td>NaN</td>\n",
       "      <td>NaN</td>\n",
       "      <td>NaN</td>\n",
       "      <td>NaN</td>\n",
       "      <td>NaN</td>\n",
       "      <td>NaN</td>\n",
       "      <td>NaN</td>\n",
       "      <td>NaN</td>\n",
       "      <td>NaN</td>\n",
       "    </tr>\n",
       "    <tr>\n",
       "      <th>62573</th>\n",
       "      <td>6234117365</td>\n",
       "      <td>2018</td>\n",
       "      <td>2018-02-19</td>\n",
       "      <td>WINNER_DEVIATION</td>\n",
       "      <td>583221.86</td>\n",
       "      <td>Деятельность организаций санитарно-эпидемиолог...</td>\n",
       "      <td>ООО \"БИОСФЕРА\"</td>\n",
       "      <td>2013-05-23</td>\n",
       "      <td>61.0</td>\n",
       "      <td>6234117365</td>\n",
       "      <td>...</td>\n",
       "      <td>NaN</td>\n",
       "      <td>NaN</td>\n",
       "      <td>NaN</td>\n",
       "      <td>NaN</td>\n",
       "      <td>NaN</td>\n",
       "      <td>NaN</td>\n",
       "      <td>NaN</td>\n",
       "      <td>NaN</td>\n",
       "      <td>NaN</td>\n",
       "      <td>NaN</td>\n",
       "    </tr>\n",
       "    <tr>\n",
       "      <th>62574</th>\n",
       "      <td>6686084757</td>\n",
       "      <td>2018</td>\n",
       "      <td>2018-03-14</td>\n",
       "      <td>CANCEL_CONTRACT</td>\n",
       "      <td>1138221.29</td>\n",
       "      <td>Торговля оптовая техникой, оборудованием и инс...</td>\n",
       "      <td>ООО \"МЕДТЕХНИКА\"</td>\n",
       "      <td>2016-09-08</td>\n",
       "      <td>65.0</td>\n",
       "      <td>6686084757</td>\n",
       "      <td>...</td>\n",
       "      <td>NaN</td>\n",
       "      <td>NaN</td>\n",
       "      <td>NaN</td>\n",
       "      <td>NaN</td>\n",
       "      <td>NaN</td>\n",
       "      <td>NaN</td>\n",
       "      <td>NaN</td>\n",
       "      <td>NaN</td>\n",
       "      <td>NaN</td>\n",
       "      <td>NaN</td>\n",
       "    </tr>\n",
       "  </tbody>\n",
       "</table>\n",
       "<p>62575 rows × 67 columns</p>\n",
       "</div>"
      ],
      "text/plain": [
       "      supplier_inn  publish_date_year publish_date            reason  \\\n",
       "0       2901235160               2014   2014-01-21   CANCEL_CONTRACT   \n",
       "1       6321299175               2014   2014-01-24   CANCEL_CONTRACT   \n",
       "2       2225097612               2014   2014-01-24   CANCEL_CONTRACT   \n",
       "3       7728800929               2014   2014-01-27   CANCEL_CONTRACT   \n",
       "4       7713754973               2014   2014-01-27   CANCEL_CONTRACT   \n",
       "...            ...                ...          ...               ...   \n",
       "62570   4025419633               2018   2018-03-01   CANCEL_CONTRACT   \n",
       "62571   1215214501               2018   2018-03-01   CANCEL_CONTRACT   \n",
       "62572   5022030921               2018   2018-02-19  WINNER_DEVIATION   \n",
       "62573   6234117365               2018   2018-02-19  WINNER_DEVIATION   \n",
       "62574   6686084757               2018   2018-03-14   CANCEL_CONTRACT   \n",
       "\n",
       "       contract_price_amount  \\\n",
       "0                  990688.90   \n",
       "1                13499999.99   \n",
       "2                  248958.56   \n",
       "3                 2420682.53   \n",
       "4                  542741.85   \n",
       "...                      ...   \n",
       "62570              416000.00   \n",
       "62571               31250.00   \n",
       "62572             4011464.28   \n",
       "62573              583221.86   \n",
       "62574             1138221.29   \n",
       "\n",
       "                                         main_okved_name  \\\n",
       "0      Производство электромонтажных, санитарно-техни...   \n",
       "1      Торговля автомобильными деталями, узлами и при...   \n",
       "2      Аренда и лизинг легковых автомобилей и легких ...   \n",
       "3                   Строительство жилых и нежилых зданий   \n",
       "4                              Деятельность издательская   \n",
       "...                                                  ...   \n",
       "62570  Консультирование по вопросам коммерческой деят...   \n",
       "62571  Деятельность по обработке данных, предоставлен...   \n",
       "62572                Торговля оптовая фруктами и овощами   \n",
       "62573  Деятельность организаций санитарно-эпидемиолог...   \n",
       "62574  Торговля оптовая техникой, оборудованием и инс...   \n",
       "\n",
       "                           shortname    reg_date  region_code         inn  \\\n",
       "0      ООО \"СТРОИТЕЛЬНЫЕ ТЕХНОЛОГИИ\"  2013-02-26         11.0  2901235160   \n",
       "1                  ООО \"РОСПРОМТОРГ\"  2012-10-09          3.0  6321299175   \n",
       "2                       ООО \"ГЕРМЕС\"  2008-10-06          1.0  2225097612   \n",
       "3             ООО \"АКТИВСТРОЙСЕРВИС\"  2012-03-12         45.0  7728800929   \n",
       "4                        ООО \"ПЕГАС\"  2012-09-27         45.0  7713754973   \n",
       "...                              ...         ...          ...         ...   \n",
       "62570              ООО \"ОПТОВЫЙ ДОМ\"  2008-11-01         29.0  4025419633   \n",
       "62571                   ООО \"ТРИУМФ\"  2016-11-23         36.0  1215214501   \n",
       "62572                      ООО \"Т-2\"  2001-12-21         46.0  5022030921   \n",
       "62573                 ООО \"БИОСФЕРА\"  2013-05-23         61.0  6234117365   \n",
       "62574               ООО \"МЕДТЕХНИКА\"  2016-09-08         65.0  6686084757   \n",
       "\n",
       "       ...  2020_SignedNumber 2020_Sum 2021_SignedNumber  2021_Sum  \\\n",
       "0      ...                NaN      NaN               NaN       NaN   \n",
       "1      ...                NaN      NaN               NaN       NaN   \n",
       "2      ...                NaN      NaN               NaN       NaN   \n",
       "3      ...                NaN      NaN               NaN       NaN   \n",
       "4      ...                NaN      NaN               NaN       NaN   \n",
       "...    ...                ...      ...               ...       ...   \n",
       "62570  ...                NaN      NaN               NaN       NaN   \n",
       "62571  ...                NaN      NaN               NaN       NaN   \n",
       "62572  ...                NaN      NaN               NaN       NaN   \n",
       "62573  ...                NaN      NaN               NaN       NaN   \n",
       "62574  ...                NaN      NaN               NaN       NaN   \n",
       "\n",
       "       2022_SignedNumber  2022_Sum  2023_SignedNumber  2023_Sum  \\\n",
       "0                    NaN       NaN                NaN       NaN   \n",
       "1                    NaN       NaN                NaN       NaN   \n",
       "2                    NaN       NaN                NaN       NaN   \n",
       "3                    NaN       NaN                NaN       NaN   \n",
       "4                    NaN       NaN                NaN       NaN   \n",
       "...                  ...       ...                ...       ...   \n",
       "62570                NaN       NaN                NaN       NaN   \n",
       "62571                NaN       NaN                NaN       NaN   \n",
       "62572                NaN       NaN                NaN       NaN   \n",
       "62573                NaN       NaN                NaN       NaN   \n",
       "62574                NaN       NaN                NaN       NaN   \n",
       "\n",
       "       2024_SignedNumber  2024_Sum  \n",
       "0                    NaN       NaN  \n",
       "1                    NaN       NaN  \n",
       "2                    NaN       NaN  \n",
       "3                    NaN       NaN  \n",
       "4                    NaN       NaN  \n",
       "...                  ...       ...  \n",
       "62570                NaN       NaN  \n",
       "62571                NaN       NaN  \n",
       "62572                NaN       NaN  \n",
       "62573                NaN       NaN  \n",
       "62574                NaN       NaN  \n",
       "\n",
       "[62575 rows x 67 columns]"
      ]
     },
     "execution_count": 85,
     "metadata": {},
     "output_type": "execute_result"
    }
   ],
   "source": [
    "result = pd.merge(rnp_suppliers, result_df, left_on='supplier_inn', right_on='inn', how='left')\n",
    "result"
   ]
  },
  {
   "cell_type": "code",
   "execution_count": 88,
   "id": "5099aeb3-73cc-4c9d-b405-2f538fe2dc80",
   "metadata": {},
   "outputs": [],
   "source": [
    "filtered_result = result[result['supplier_inn'].str.len() == 10] # 10 чисел ИНН - значит ЮЛ\n",
    "filtered_result.to_csv('rnp_comp_info.csv', index=False)"
   ]
  },
  {
   "cell_type": "code",
   "execution_count": 89,
   "id": "32410fb8-70d0-4b43-8061-926e623a0f09",
   "metadata": {},
   "outputs": [],
   "source": [
    "df = pd.read_csv('rnp_comp_info.csv', encoding='utf-8', dtype={'supplier_inn': str})\n",
    "\n",
    "# Добавление столбцов signed_number_before_rnp и sum_before_rnp\n",
    "df['signed_number_before_rnp'] = 0\n",
    "df['sum_before_rnp'] = 0\n",
    "\n",
    "# Итерация по каждой строке DataFrame\n",
    "for index, row in df.iterrows():\n",
    "    publish_year = row['publish_date_year']\n",
    "    signed_number_before_rnp = 0\n",
    "    sum_before_rnp = 0\n",
    "    \n",
    "    # Итерация по столбцам DataFrame\n",
    "    for column in df.columns:\n",
    "        if column.endswith('_SignedNumber'):\n",
    "            year = int(column.split('_')[0])\n",
    "            if not pd.isna(row[column]) and year <= int(publish_year):\n",
    "                signed_number_before_rnp += row[column]\n",
    "        elif column.endswith('_Sum'):\n",
    "            year = int(column.split('_')[0])\n",
    "            if not pd.isna(row[column]) and year <= int(publish_year):\n",
    "                sum_before_rnp += row[column]\n",
    "    \n",
    "    # Запись значений в новые столбцы\n",
    "    df.at[index, 'signed_number_before_rnp'] = signed_number_before_rnp\n",
    "    df.at[index, 'sum_before_rnp'] = sum_before_rnp"
   ]
  },
  {
   "cell_type": "code",
   "execution_count": 91,
   "id": "c2ee6ee2-175d-489c-b08a-e802d10c7ae6",
   "metadata": {},
   "outputs": [],
   "source": [
    "df.to_csv('test_agg_rnp_comp_info.csv', index=False)"
   ]
  },
  {
   "cell_type": "code",
   "execution_count": 92,
   "id": "694bfd03-9452-4b30-9bfd-a401fef66050",
   "metadata": {},
   "outputs": [],
   "source": [
    "df['reg_date'] = pd.to_datetime(df['reg_date'])\n",
    "df['publish_date'] = pd.to_datetime(df['publish_date'])\n",
    "\n",
    "df['date_diff_days'] = (df['publish_date'] - df['reg_date']).dt.days\n",
    "\n",
    "df['date_diff'] = round(df['date_diff_days'] / 365, 1)\n",
    "\n",
    "df['date_diff'] = df['date_diff'].apply(lambda x: np.nan if x < 0 else x)"
   ]
  },
  {
   "cell_type": "code",
   "execution_count": 94,
   "id": "ece57d9a-245f-4085-90a7-122a96f565b6",
   "metadata": {},
   "outputs": [],
   "source": [
    "df.to_csv('test_agg_rnp_comp_info.csv', index=False)"
   ]
  },
  {
   "cell_type": "code",
   "execution_count": 95,
   "id": "3f34405e-c3b1-4ceb-ac3a-cf0c4b9a63b0",
   "metadata": {},
   "outputs": [],
   "source": [
    "# Выбираем нужные столбцы и переименовываем их\n",
    "new_df = df[['supplier_inn', 'reg_date', 'region_code', 'region_name', 'main_okved_code', 'main_okved_name',\n",
    "             'publish_date_year', 'publish_date', 'date_diff', 'reason', 'contract_price_amount',\n",
    "             'signed_number_before_rnp', 'sum_before_rnp']].copy()\n",
    "\n",
    "new_df.rename(columns={\n",
    "    'date_diff': 'date_diff_between_reg_entry',\n",
    "    'publish_date_year': 'rnp_entry_date_year',\n",
    "    'publish_date': 'rnp_entry_date',\n",
    "    'reason': 'rnp_reason',\n",
    "    'signed_number_before_rnp': 'history_signed_contract_before_rnp', \n",
    "    'sum_before_rnp': 'history_sum_price_before_rnp' \n",
    "}, inplace=True)"
   ]
  },
  {
   "cell_type": "code",
   "execution_count": 97,
   "id": "028c3387-2cf4-402b-8659-9bc292f019b5",
   "metadata": {},
   "outputs": [],
   "source": [
    "new_df.to_csv('rnp_companies_info_final.csv', index=False)"
   ]
  },
  {
   "cell_type": "markdown",
   "id": "5bc1c13d-7300-4b24-8b33-b630e4e240e5",
   "metadata": {},
   "source": [
    "### Очистим от пропусков и дубликатов Фин показатели"
   ]
  },
  {
   "cell_type": "code",
   "execution_count": 19,
   "id": "ae7205fb-1ecb-4b41-b794-eab362d26698",
   "metadata": {},
   "outputs": [],
   "source": [
    "comp_fin_spark_info = pd.read_csv('comp_fin_spark_info.csv', encoding='utf-8', dtype={'INN': str, 'Year': str})"
   ]
  },
  {
   "cell_type": "code",
   "execution_count": 21,
   "id": "c170b777-f1f8-4fa9-a2fa-aa5aa6360bf1",
   "metadata": {},
   "outputs": [],
   "source": [
    "# Сначала фильтруем DataFrame, чтобы исключить строки, где значения в 'Year' или 'INN' являются NaN\n",
    "filtered_comp_fin_spark_info = comp_fin_spark_info.dropna(subset=['Year', 'INN'])\n",
    "\n",
    "# Удаляем дубликаты, сохраняя только первое вхождение каждого дубликата\n",
    "unique_comp_fin_spark_info = filtered_comp_fin_spark_info.drop_duplicates(subset=['Year', 'INN'], keep='first')"
   ]
  },
  {
   "cell_type": "code",
   "execution_count": 23,
   "id": "289d2a33-caca-4bec-9a77-51bfc024a5db",
   "metadata": {},
   "outputs": [],
   "source": [
    "unique_comp_fin_spark_info.to_csv('comp_fin_spark_info_wa_na_dublicates.csv', index=False)"
   ]
  },
  {
   "cell_type": "markdown",
   "id": "673b4d24-895f-425c-bf62-92b5731dd9c3",
   "metadata": {},
   "source": [
    "### Объединим РНП компании и Фин показатели"
   ]
  },
  {
   "cell_type": "code",
   "execution_count": 24,
   "id": "e3937d8d-3273-4bfc-bca2-3a26a4a0a7f6",
   "metadata": {},
   "outputs": [],
   "source": [
    "rnp_companies_info_final = pd.read_csv('rnp_companies_info_final.csv', encoding='utf-8', dtype={'supplier_inn': str, 'rnp_entry_date_year': str})\n",
    "comp_fin_spark_info = pd.read_csv('comp_fin_spark_info_wa_na_dublicates.csv', encoding='utf-8', dtype={'INN': str, 'Year': str})"
   ]
  },
  {
   "cell_type": "code",
   "execution_count": 25,
   "id": "820bf8ec-62eb-4d9a-a8f5-bbfcbdc74c31",
   "metadata": {},
   "outputs": [],
   "source": [
    "result = pd.merge(rnp_companies_info_final, comp_fin_spark_info, \n",
    "                  how='left', \n",
    "                  left_on=['supplier_inn', 'rnp_entry_date_year'], \n",
    "                  right_on=['INN', 'Year'])"
   ]
  },
  {
   "cell_type": "code",
   "execution_count": 38,
   "id": "91d0fb8f-8cfa-4fdf-8874-354b8eaf8ff9",
   "metadata": {},
   "outputs": [],
   "source": [
    "result[result['INN'].notna()].to_csv('rnp_companies_fin_info_full_match.csv', index=False) # это датасет с заполненными INN"
   ]
  },
  {
   "cell_type": "markdown",
   "id": "f5d7c7d0-b81a-41ec-a8ce-00e8698d89fe",
   "metadata": {},
   "source": [
    "> Данные по фин показателям имеют информацию не по всем финансовым годам\n",
    "\n",
    "> То есть, не всегда получается так, что для компании, которая вошла в РНП в 2017 году имеет доступную фин информацию за 2017 год\n",
    "\n",
    "> Поэтому подбираем Год минус 1 и Год минус 2\n",
    "\n",
    "> Год минус 3 не берем, так как это уже сильно может искажать информацию для анализа и + с этого момента прибавка к новым мэтчам незначительная"
   ]
  },
  {
   "cell_type": "code",
   "execution_count": 42,
   "id": "11a17058-0bee-4cb2-b4bc-637f6d645185",
   "metadata": {
    "scrolled": true
   },
   "outputs": [],
   "source": [
    "result[result['INN'].isna()].iloc[:, :13].to_csv('rnp_companies_fin_info_NaNs_1iteration.csv', index=False) # это датасет с незаполненными INN + очищены лишние столбцы, чтобы заново проделать left join"
   ]
  },
  {
   "cell_type": "markdown",
   "id": "de03356c-5490-4573-8c0a-a7578c9e6092",
   "metadata": {},
   "source": [
    "#### Проведем итерацию с взятием Год - 1"
   ]
  },
  {
   "cell_type": "code",
   "execution_count": 44,
   "id": "e929cd25-958a-49eb-9252-b7698bbe5a1a",
   "metadata": {},
   "outputs": [],
   "source": [
    "rnp_companies_for_1iteration = pd.read_csv('rnp_companies_fin_info_NaNs_1iteration.csv', encoding='utf-8', dtype={'supplier_inn': str, 'rnp_entry_date_year': str})"
   ]
  },
  {
   "cell_type": "code",
   "execution_count": 45,
   "id": "8f6425a2-ec15-48b6-b3cb-67cbc366428f",
   "metadata": {},
   "outputs": [],
   "source": [
    "rnp_companies_for_1iteration['entry_year_minus_1'] = (rnp_companies_for_1iteration['rnp_entry_date_year'].astype(int) - 1).astype(str)"
   ]
  },
  {
   "cell_type": "code",
   "execution_count": 47,
   "id": "a16b6e75-c33b-4065-b90c-276546a6bf33",
   "metadata": {},
   "outputs": [],
   "source": [
    "result1 = pd.merge(rnp_companies_for_1iteration, comp_fin_spark_info, \n",
    "                  how='left', \n",
    "                  left_on=['supplier_inn', 'entry_year_minus_1'], \n",
    "                  right_on=['INN', 'Year'])"
   ]
  },
  {
   "cell_type": "code",
   "execution_count": 49,
   "id": "78c889ba-2dd9-4d28-84f5-bf56f5b9d61b",
   "metadata": {},
   "outputs": [
    {
     "data": {
      "text/plain": [
       "11452"
      ]
     },
     "execution_count": 49,
     "metadata": {},
     "output_type": "execute_result"
    }
   ],
   "source": [
    "result1['INN'].isna().sum() # количество несовпадений для года - 1 "
   ]
  },
  {
   "cell_type": "code",
   "execution_count": 52,
   "id": "8af3e03f-761a-4ac7-ba59-176e8debf4e5",
   "metadata": {},
   "outputs": [],
   "source": [
    "# то есть мы добавили к изначальному датасету еще 8 266 смэтченных данных"
   ]
  },
  {
   "cell_type": "code",
   "execution_count": 54,
   "id": "80bd1801-dfb5-4b6f-84b3-7dee69db5241",
   "metadata": {},
   "outputs": [],
   "source": [
    "result1 = result1.drop('entry_year_minus_1', axis=1)"
   ]
  },
  {
   "cell_type": "code",
   "execution_count": 57,
   "id": "995119c3-99ee-46b4-89c2-b8031f2a1dd3",
   "metadata": {},
   "outputs": [],
   "source": [
    "result1[result1['INN'].notna()].to_csv('rnp_companies_fin_info_match_on_year_minus_1.csv', index=False) # это датасет с заполненными INN"
   ]
  },
  {
   "cell_type": "code",
   "execution_count": 58,
   "id": "c5cadf46-78b9-4364-b6ec-d278263a6277",
   "metadata": {},
   "outputs": [],
   "source": [
    "result1[result1['INN'].isna()].iloc[:, :13].to_csv('rnp_companies_fin_info_NaNs_2iteration.csv', index=False) # это датасет с незаполненными INN + очищены лишние столбцы, чтобы заново проделать left join"
   ]
  },
  {
   "cell_type": "markdown",
   "id": "93ed8576-1fd8-467a-af66-cf17594c1820",
   "metadata": {},
   "source": [
    "#### Проведем итерацию с взятием Год - 2"
   ]
  },
  {
   "cell_type": "code",
   "execution_count": 70,
   "id": "f64aef95-fe43-478d-a873-f3eb8de155d2",
   "metadata": {},
   "outputs": [],
   "source": [
    "rnp_companies_for_2iteration = pd.read_csv('rnp_companies_fin_info_NaNs_2iteration.csv', encoding='utf-8', dtype={'supplier_inn': str, 'rnp_entry_date_year': str})\n",
    "rnp_companies_for_2iteration['entry_year_minus_2'] = (rnp_companies_for_2iteration['rnp_entry_date_year'].astype(int) - 2).astype(str)\n",
    "\n",
    "result2 = pd.merge(rnp_companies_for_2iteration, comp_fin_spark_info, \n",
    "                  how='left', \n",
    "                  left_on=['supplier_inn', 'entry_year_minus_2'], \n",
    "                  right_on=['INN', 'Year'])"
   ]
  },
  {
   "cell_type": "code",
   "execution_count": 71,
   "id": "89565de8-5888-40d6-99f1-63022209e36b",
   "metadata": {},
   "outputs": [
    {
     "data": {
      "text/plain": [
       "8886"
      ]
     },
     "execution_count": 71,
     "metadata": {},
     "output_type": "execute_result"
    }
   ],
   "source": [
    "result2['INN'].isna().sum() # количество несовпадений для года - 2"
   ]
  },
  {
   "cell_type": "code",
   "execution_count": 74,
   "id": "7285f54f-4fb4-4325-be87-4c0536b2e52c",
   "metadata": {},
   "outputs": [],
   "source": [
    "# то есть мы добавили к изначальному датасету еще 2 566 смэтченных данных"
   ]
  },
  {
   "cell_type": "code",
   "execution_count": 73,
   "id": "dc92433b-5c71-493e-b23b-e89126b1d64c",
   "metadata": {},
   "outputs": [],
   "source": [
    "result2 = result2.drop('entry_year_minus_2', axis=1)"
   ]
  },
  {
   "cell_type": "code",
   "execution_count": 81,
   "id": "af36976e-be85-4d47-bdf1-70e22404c6ab",
   "metadata": {},
   "outputs": [],
   "source": [
    "result2[result2['INN'].notna()].to_csv('rnp_companies_fin_info_match_on_year_minus_2.csv', index=False) # это датасет с заполненными INN\n",
    "result2[result2['INN'].isna()].iloc[:, :13].to_csv('rnp_companies_fin_info_NaNs_3iteration.csv', index=False) # это датасет с незаполненными INN + очищены лишние столбцы, чтобы заново проделать left join"
   ]
  },
  {
   "cell_type": "markdown",
   "id": "2fcb1156-3c3c-43a7-83b1-99ebc3309d28",
   "metadata": {},
   "source": [
    "#### Проведем итерацию с взятием Год - 3"
   ]
  },
  {
   "cell_type": "code",
   "execution_count": 82,
   "id": "6899027f-fbff-42c7-84c0-9a5e212d2f2b",
   "metadata": {},
   "outputs": [],
   "source": [
    "rnp_companies_for_3iteration = pd.read_csv('rnp_companies_fin_info_NaNs_3iteration.csv', encoding='utf-8', dtype={'supplier_inn': str, 'rnp_entry_date_year': str})\n",
    "rnp_companies_for_3iteration['entry_year_minus_3'] = (rnp_companies_for_3iteration['rnp_entry_date_year'].astype(int) - 3).astype(str)\n",
    "\n",
    "result3 = pd.merge(rnp_companies_for_3iteration, comp_fin_spark_info, \n",
    "                  how='left', \n",
    "                  left_on=['supplier_inn', 'entry_year_minus_3'], \n",
    "                  right_on=['INN', 'Year'])"
   ]
  },
  {
   "cell_type": "code",
   "execution_count": 83,
   "id": "4ff3de2c-eaad-422e-90ca-5046bd3f479d",
   "metadata": {},
   "outputs": [
    {
     "data": {
      "text/plain": [
       "8459"
      ]
     },
     "execution_count": 83,
     "metadata": {},
     "output_type": "execute_result"
    }
   ],
   "source": [
    "result3['INN'].isna().sum() # количество несовпадений для года - 3"
   ]
  },
  {
   "cell_type": "code",
   "execution_count": 84,
   "id": "7a0ba668-4a16-4b46-9a14-6e5ed05b39d9",
   "metadata": {},
   "outputs": [
    {
     "data": {
      "text/plain": [
       "427"
      ]
     },
     "execution_count": 84,
     "metadata": {},
     "output_type": "execute_result"
    }
   ],
   "source": [
    "8886-8459"
   ]
  },
  {
   "cell_type": "markdown",
   "id": "aeae12c6-89b2-4c95-8755-0aa6f3bd7514",
   "metadata": {},
   "source": [
    "видим, что добавилось 427 значений, но уже их учитывать не будем, так как я подумал, что Год-3 брать некорректно ну и + там больше уже меньше эффекта по количество новых мэтчей"
   ]
  },
  {
   "cell_type": "markdown",
   "id": "2ade405e-792f-4133-bcd9-f896ca87101f",
   "metadata": {},
   "source": [
    "#### Объединим получившиеся датасеты (полный мэтч, год-1, год-2) + анмэтч в виде rnp_companies_fin_info_NaNs_3iteration"
   ]
  },
  {
   "cell_type": "markdown",
   "id": "c845560f-3beb-4432-a431-4134130ec205",
   "metadata": {},
   "source": [
    "должно получиться исходное количество записей - 49 378 "
   ]
  },
  {
   "cell_type": "code",
   "execution_count": 89,
   "id": "37c694de-61d4-4c8e-9f80-c5b752cf5600",
   "metadata": {},
   "outputs": [],
   "source": [
    "df1 = pd.read_csv('rnp_companies_fin_info_full_match.csv', encoding='utf-8', dtype={'supplier_inn': str, 'rnp_entry_date_year': str})\n",
    "df2 = pd.read_csv('rnp_companies_fin_info_match_on_year_minus_1.csv', encoding='utf-8', dtype={'supplier_inn': str, 'rnp_entry_date_year': str})\n",
    "df3 = pd.read_csv('rnp_companies_fin_info_match_on_year_minus_2.csv', encoding='utf-8', dtype={'supplier_inn': str, 'rnp_entry_date_year': str})\n",
    "df4 = pd.read_csv('rnp_companies_fin_info_NaNs_3iteration.csv', encoding='utf-8', dtype={'supplier_inn': str, 'rnp_entry_date_year': str})\n",
    "\n",
    "# Объединение DataFrame'ов\n",
    "result = pd.concat([df1, df2, df3, df4], ignore_index=True)"
   ]
  },
  {
   "cell_type": "code",
   "execution_count": 91,
   "id": "e8e4c83c-52e8-47d2-a307-d978591bb8fe",
   "metadata": {
    "scrolled": true
   },
   "outputs": [],
   "source": [
    "result.to_csv('test.csv', index=False)"
   ]
  },
  {
   "cell_type": "markdown",
   "id": "bf232220-2f14-4f96-8613-0d9a0231fdf1",
   "metadata": {},
   "source": [
    "#### Отберем подходящие переменные для анализа"
   ]
  },
  {
   "cell_type": "markdown",
   "id": "25d181ab-1f38-4a4d-ba52-5053fdd4b456",
   "metadata": {},
   "source": [
    "> Фин информация имеет нефиксированные наборы, у кого-то заполнены одни показатели, у других - другие.\n",
    "\n",
    "> Поэтому отбираем переменные которые заполнены на более чем 75%"
   ]
  },
  {
   "cell_type": "code",
   "execution_count": 109,
   "id": "ded267a6-cd44-452b-991a-7ca41387eff1",
   "metadata": {},
   "outputs": [
    {
     "name": "stdout",
     "output_type": "stream",
     "text": [
      "Столбцы с заполненностью более 75%: ['supplier_inn', 'reg_date', 'region_code', 'region_name', 'main_okved_code', 'main_okved_name', 'rnp_entry_date_year', 'rnp_entry_date', 'date_diff_between_reg_entry', 'rnp_reason', 'contract_price_amount', 'history_signed_contract_before_rnp', 'history_sum_price_before_rnp', 'INN', 'Year', 'Денежные средства и денежные эквиваленты', 'Кредиторская задолженность', 'Выручка', 'Чистая прибыль (убыток)']\n"
     ]
    }
   ],
   "source": [
    "df_filtered = result\n",
    "\n",
    "# Подсчет заполненности для каждого столбца, кроме 'INN'\n",
    "column_fill_rates = (df_filtered.loc[:, df_filtered.columns].notna().sum() / len(df_filtered)) * 100\n",
    "\n",
    "# Отбор столбцов с заполненностью более 75%\n",
    "columns_above_75 = column_fill_rates[column_fill_rates > 75].index.tolist()\n",
    "\n",
    "print(\"Столбцы с заполненностью более 75%:\", columns_above_75)"
   ]
  },
  {
   "cell_type": "markdown",
   "id": "128b1300-de96-42e6-99d6-57d27ff84582",
   "metadata": {},
   "source": [
    "> В итоге это - Ден средства, Кред задолженность, Выручка, Чистая прибыль"
   ]
  },
  {
   "cell_type": "code",
   "execution_count": 110,
   "id": "c05c7105-894a-4d0b-8cea-e73c4c712fc7",
   "metadata": {},
   "outputs": [],
   "source": [
    "# Выбираем нужные столбцы\n",
    "new_df = result[['supplier_inn', 'reg_date', 'region_code', 'region_name', 'main_okved_code', 'main_okved_name',\n",
    "             'rnp_entry_date_year', 'rnp_entry_date', 'date_diff_between_reg_entry', 'rnp_reason', 'contract_price_amount',\n",
    "             'history_signed_contract_before_rnp', 'history_sum_price_before_rnp',\n",
    "             'Денежные средства и денежные эквиваленты', 'Кредиторская задолженность', 'Выручка', 'Чистая прибыль (убыток)']].copy()"
   ]
  },
  {
   "cell_type": "code",
   "execution_count": 112,
   "id": "450f6461-5edd-4c72-834e-96a320008f02",
   "metadata": {},
   "outputs": [],
   "source": [
    "new_df.to_csv('rnp_companies_fin_info_final.csv', index=False)"
   ]
  },
  {
   "cell_type": "markdown",
   "id": "2092aa37-21c3-40a1-b8e6-bc1e8b730646",
   "metadata": {},
   "source": [
    "### Объединим РНП компании и Фин показатели и Кол-во сотрудников"
   ]
  },
  {
   "cell_type": "code",
   "execution_count": 116,
   "id": "46232d0b-2de4-492c-8842-a7d70e1a04e0",
   "metadata": {},
   "outputs": [],
   "source": [
    "comp_empl_spark_info = pd.read_csv('comp_empl_spark_info.csv', encoding='utf-8', dtype={'inn': str, 'year': str, 'employees': int})"
   ]
  },
  {
   "cell_type": "code",
   "execution_count": 120,
   "id": "b190c9a1-f0f8-4941-b290-cb73330a43bc",
   "metadata": {},
   "outputs": [],
   "source": [
    "comp_empl_spark_info_unique = comp_empl_spark_info.drop_duplicates(subset=['inn', 'year'], keep='first')"
   ]
  },
  {
   "cell_type": "code",
   "execution_count": 123,
   "id": "8fd70293-5bcd-4d6b-ab59-6618ac6a5d30",
   "metadata": {},
   "outputs": [],
   "source": [
    "comp_empl_spark_info_unique.to_csv('comp_empl_spark_info_wa_dublicates.csv', index=False)"
   ]
  },
  {
   "cell_type": "code",
   "execution_count": 124,
   "id": "54e8060a-4276-4c1a-b1b6-32d55d46212f",
   "metadata": {},
   "outputs": [],
   "source": [
    "rnp_companies_fin_info = pd.read_csv('rnp_companies_fin_info_final.csv', encoding='utf-8', dtype={'supplier_inn': str, 'rnp_entry_date_year': str})\n",
    "comp_empl_spark_info_unique = pd.read_csv('comp_empl_spark_info_wa_dublicates.csv', encoding='utf-8', dtype={'inn': str, 'year': str, 'employees': int})"
   ]
  },
  {
   "cell_type": "code",
   "execution_count": 126,
   "id": "b918f52a-9dda-4cc7-98ab-11c6eeb0bcf4",
   "metadata": {},
   "outputs": [],
   "source": [
    "result = pd.merge(rnp_companies_fin_info, comp_empl_spark_info_unique, \n",
    "                  how='left', \n",
    "                  left_on=['supplier_inn', 'rnp_entry_date_year'], \n",
    "                  right_on=['inn', 'year'])"
   ]
  },
  {
   "cell_type": "code",
   "execution_count": 128,
   "id": "d39fbf7d-d3de-458d-9c9d-d3b9580a6142",
   "metadata": {},
   "outputs": [],
   "source": [
    "result.to_csv('test.csv', index=False)"
   ]
  },
  {
   "cell_type": "code",
   "execution_count": 129,
   "id": "c9ddafcb-6e06-442a-a9e5-17f69c10a7e9",
   "metadata": {},
   "outputs": [
    {
     "data": {
      "text/plain": [
       "22814"
      ]
     },
     "execution_count": 129,
     "metadata": {},
     "output_type": "execute_result"
    }
   ],
   "source": [
    "result['employees'].isna().sum()"
   ]
  },
  {
   "cell_type": "markdown",
   "id": "76042a53-9ebc-4147-9d3c-5eed088bb885",
   "metadata": {},
   "source": [
    "22 814 незаполненных записей, почти 50%. Проведем ту же схему с Годом-1, как в финансах"
   ]
  },
  {
   "cell_type": "markdown",
   "id": "abb1d8ce-503b-4da5-b274-6906f7d66869",
   "metadata": {},
   "source": [
    "#### Год-1"
   ]
  },
  {
   "cell_type": "code",
   "execution_count": 2,
   "id": "76e13b8f-9d1d-4538-b2e4-012a1f485ce7",
   "metadata": {},
   "outputs": [],
   "source": [
    "result = pd.read_csv('test.csv', encoding='utf-8', dtype={'supplier_inn': str, 'rnp_entry_date_year': str})"
   ]
  },
  {
   "cell_type": "code",
   "execution_count": 6,
   "id": "b3f08ef9-e46f-467b-adf4-19c8a3e4318e",
   "metadata": {},
   "outputs": [],
   "source": [
    "result[result['inn'].notna()].to_csv('rnp_companies_fin_empl_match_on_year.csv', index=False) # это датасет с заполненными inn"
   ]
  },
  {
   "cell_type": "code",
   "execution_count": 7,
   "id": "07933786-0948-4498-9f20-3f3789d9cadb",
   "metadata": {},
   "outputs": [],
   "source": [
    "result[result['inn'].isna()].iloc[:, :17].to_csv('rnp_companies_fin_empl_NaNs_1iteration.csv', index=False) # это датасет с незаполненными inn + очищены лишние столбцы, чтобы заново проделать left join"
   ]
  },
  {
   "cell_type": "code",
   "execution_count": 8,
   "id": "f2f78976-c9a2-4159-ae87-4bb79e285c6d",
   "metadata": {},
   "outputs": [],
   "source": [
    "rnp_companies_for_1iteration = pd.read_csv('rnp_companies_fin_empl_NaNs_1iteration.csv', encoding='utf-8', dtype={'supplier_inn': str, 'rnp_entry_date_year': str})\n",
    "rnp_companies_for_1iteration['entry_year_minus_1'] = (rnp_companies_for_1iteration['rnp_entry_date_year'].astype(int) - 1).astype(str)\n",
    "\n",
    "comp_empl_spark_info_unique = pd.read_csv('comp_empl_spark_info_wa_dublicates.csv', encoding='utf-8', dtype={'inn': str, 'year': str, 'employees': int})\n",
    "\n",
    "result2 = pd.merge(rnp_companies_for_1iteration, comp_empl_spark_info_unique, \n",
    "                  how='left', \n",
    "                  left_on=['supplier_inn', 'entry_year_minus_1'], \n",
    "                  right_on=['inn', 'year'])"
   ]
  },
  {
   "cell_type": "code",
   "execution_count": 10,
   "id": "9e6f5c77-6e9e-4ec4-91cc-59d4091e66f4",
   "metadata": {},
   "outputs": [
    {
     "data": {
      "text/plain": [
       "16812"
      ]
     },
     "execution_count": 10,
     "metadata": {},
     "output_type": "execute_result"
    }
   ],
   "source": [
    "result2['employees'].isna().sum()"
   ]
  },
  {
   "cell_type": "code",
   "execution_count": 11,
   "id": "d1228a73-638f-455f-a490-2f98343ec151",
   "metadata": {},
   "outputs": [
    {
     "data": {
      "text/plain": [
       "6002"
      ]
     },
     "execution_count": 11,
     "metadata": {},
     "output_type": "execute_result"
    }
   ],
   "source": [
    "22814-16812"
   ]
  },
  {
   "cell_type": "code",
   "execution_count": 12,
   "id": "f0a24c95-3c6b-495b-ad9a-ec6ac121e01c",
   "metadata": {},
   "outputs": [],
   "source": [
    "result2 = result2.drop('entry_year_minus_1', axis=1)\n",
    "\n",
    "result2[result2['inn'].notna()].to_csv('rnp_companies_fin_empl_match_on_year_minus_1.csv', index=False) # это датасет с заполненными inn\n",
    "result2[result2['inn'].isna()].iloc[:, :17].to_csv('rnp_companies_fin_empl_NaNs_2iteration.csv', index=False) # это датасет с незаполненными inn + очищены лишние столбцы, чтобы заново проделать left join"
   ]
  },
  {
   "cell_type": "markdown",
   "id": "cc4f54e7-2509-47a4-b9fa-4a623c39e6eb",
   "metadata": {},
   "source": [
    "#### Год-2"
   ]
  },
  {
   "cell_type": "code",
   "execution_count": 13,
   "id": "eb9bdb2f-d95d-442c-8af5-94ebb7bfdbd1",
   "metadata": {},
   "outputs": [],
   "source": [
    "rnp_companies_for_2iteration = pd.read_csv('rnp_companies_fin_empl_NaNs_2iteration.csv', encoding='utf-8', dtype={'supplier_inn': str, 'rnp_entry_date_year': str})\n",
    "rnp_companies_for_2iteration['entry_year_minus_2'] = (rnp_companies_for_2iteration['rnp_entry_date_year'].astype(int) - 2).astype(str)\n",
    "\n",
    "comp_empl_spark_info_unique = pd.read_csv('comp_empl_spark_info_wa_dublicates.csv', encoding='utf-8', dtype={'inn': str, 'year': str, 'employees': int})\n",
    "\n",
    "result2 = pd.merge(rnp_companies_for_2iteration, comp_empl_spark_info_unique, \n",
    "                  how='left', \n",
    "                  left_on=['supplier_inn', 'entry_year_minus_2'], \n",
    "                  right_on=['inn', 'year'])"
   ]
  },
  {
   "cell_type": "code",
   "execution_count": 14,
   "id": "1ac92593-894c-4630-93b1-43ab557d0f1e",
   "metadata": {},
   "outputs": [
    {
     "data": {
      "text/plain": [
       "15606"
      ]
     },
     "execution_count": 14,
     "metadata": {},
     "output_type": "execute_result"
    }
   ],
   "source": [
    "result2['employees'].isna().sum()"
   ]
  },
  {
   "cell_type": "code",
   "execution_count": 15,
   "id": "13430457-cab5-4003-81d4-daeafc79e474",
   "metadata": {},
   "outputs": [
    {
     "data": {
      "text/plain": [
       "1206"
      ]
     },
     "execution_count": 15,
     "metadata": {},
     "output_type": "execute_result"
    }
   ],
   "source": [
    "16812-15606"
   ]
  },
  {
   "cell_type": "code",
   "execution_count": 16,
   "id": "e48d57d1-a9cf-4895-9bbb-1247063f6294",
   "metadata": {},
   "outputs": [],
   "source": [
    "result2 = result2.drop('entry_year_minus_2', axis=1)\n",
    "\n",
    "result2[result2['inn'].notna()].to_csv('rnp_companies_fin_empl_match_on_year_minus_2.csv', index=False) # это датасет с заполненными inn\n",
    "result2[result2['inn'].isna()].iloc[:, :17].to_csv('rnp_companies_fin_empl_NaNs_3iteration.csv', index=False) # это датасет с незаполненными inn + очищены лишние столбцы, чтобы заново проделать left join"
   ]
  },
  {
   "cell_type": "markdown",
   "id": "ab1d61c4-f88b-4427-bed6-6758b220725b",
   "metadata": {},
   "source": [
    "#### Объединение"
   ]
  },
  {
   "cell_type": "code",
   "execution_count": 17,
   "id": "f2a4fcf4-67b3-4484-bd5a-95e7f53e09bc",
   "metadata": {},
   "outputs": [],
   "source": [
    "df1 = pd.read_csv('rnp_companies_fin_empl_match_on_year.csv', encoding='utf-8', dtype={'supplier_inn': str, 'rnp_entry_date_year': str})\n",
    "df2 = pd.read_csv('rnp_companies_fin_empl_match_on_year_minus_1.csv', encoding='utf-8', dtype={'supplier_inn': str, 'rnp_entry_date_year': str})\n",
    "df3 = pd.read_csv('rnp_companies_fin_empl_match_on_year_minus_2.csv', encoding='utf-8', dtype={'supplier_inn': str, 'rnp_entry_date_year': str})\n",
    "df4 = pd.read_csv('rnp_companies_fin_empl_NaNs_3iteration.csv', encoding='utf-8', dtype={'supplier_inn': str, 'rnp_entry_date_year': str})\n",
    "\n",
    "# Объединение DataFrame'ов\n",
    "result = pd.concat([df1, df2, df3, df4], ignore_index=True)"
   ]
  },
  {
   "cell_type": "code",
   "execution_count": 19,
   "id": "ff9d283d-044d-42c3-aeb0-3619a49b4f5c",
   "metadata": {
    "scrolled": true
   },
   "outputs": [
    {
     "data": {
      "text/plain": [
       "15606"
      ]
     },
     "execution_count": 19,
     "metadata": {},
     "output_type": "execute_result"
    }
   ],
   "source": [
    "result['employees'].isna().sum()"
   ]
  },
  {
   "cell_type": "code",
   "execution_count": 20,
   "id": "04c6efc0-259c-4e50-b378-0f91415d560e",
   "metadata": {},
   "outputs": [],
   "source": [
    "# Выбираем нужные столбцы\n",
    "new_df = result[['supplier_inn', 'reg_date', 'region_code', 'region_name', 'main_okved_code', 'main_okved_name',\n",
    "             'rnp_entry_date_year', 'rnp_entry_date', 'date_diff_between_reg_entry', 'rnp_reason', 'contract_price_amount',\n",
    "             'history_signed_contract_before_rnp', 'history_sum_price_before_rnp', 'employees',\n",
    "             'Денежные средства и денежные эквиваленты', 'Кредиторская задолженность', 'Выручка', 'Чистая прибыль (убыток)']].copy()"
   ]
  },
  {
   "cell_type": "code",
   "execution_count": 22,
   "id": "1e3ef711-cc7d-458a-ae23-86f501b0bf74",
   "metadata": {
    "scrolled": true
   },
   "outputs": [],
   "source": [
    "new_df.to_csv('rnp_companies_fin_employees_info_final.csv', index=False)"
   ]
  },
  {
   "cell_type": "markdown",
   "id": "b4092f56-31a6-4eb0-b189-56c28b82bb23",
   "metadata": {},
   "source": [
    "### Небольшая корректировка, как и в ИП. Забыл привести ОКВЭД к единой структуре (классам)"
   ]
  },
  {
   "cell_type": "code",
   "execution_count": 64,
   "id": "0e3e34a3-7a87-481c-bfde-6bc80bfaff07",
   "metadata": {},
   "outputs": [],
   "source": [
    "df_comp = pd.read_csv('rnp_companies_fin_employees_info_final.csv',\n",
    "                      encoding='utf-8',\n",
    "                      dtype={'supplier_inn': str})"
   ]
  },
  {
   "cell_type": "code",
   "execution_count": 67,
   "id": "199c0282-010a-4240-93b1-b00fa0c3a85e",
   "metadata": {},
   "outputs": [],
   "source": [
    "new_column = df_comp['main_okved_code'].str[:2]\n",
    "# Выбираем позицию, где должен быть вставлен новый столбец (после 5-го столбца, индексация с нуля)\n",
    "position = 6\n",
    "\n",
    "# Вставляем столбец\n",
    "df_comp.insert(loc=position, column='main_okved_code_class', value=new_column)"
   ]
  },
  {
   "cell_type": "code",
   "execution_count": 69,
   "id": "ffd1cf2a-4395-4260-b2c2-7337f67e49a2",
   "metadata": {},
   "outputs": [],
   "source": [
    "result = pd.merge(df_comp, check_okved[['Коды ОКВЭД', 'Наименование разделов']], \n",
    "                  left_on='main_okved_code_class', right_on='Коды ОКВЭД', how='left').drop(columns='Коды ОКВЭД')"
   ]
  },
  {
   "cell_type": "code",
   "execution_count": 71,
   "id": "bb9bdd86-74bd-48fc-9913-05a553456558",
   "metadata": {},
   "outputs": [],
   "source": [
    "new_column = result['Наименование разделов']\n",
    "# Выбираем позицию, где должен быть вставлен новый столбец (после 6-го столбца, индексация с нуля)\n",
    "position = 7\n",
    "# Вставляем столбец\n",
    "result.insert(loc=position, column='main_okved_name_class', value=new_column)"
   ]
  },
  {
   "cell_type": "code",
   "execution_count": 73,
   "id": "822ebbb1-07f8-40c8-b588-2e68dbca0b07",
   "metadata": {},
   "outputs": [],
   "source": [
    "result.drop('Наименование разделов', axis=1, inplace=True)"
   ]
  },
  {
   "cell_type": "code",
   "execution_count": 74,
   "id": "7f96fc27-1777-4a75-94d5-2ace7d1f4b3c",
   "metadata": {},
   "outputs": [],
   "source": [
    "result.to_csv('rnp_companies_fin_employees_info_final_final.csv', index=False)"
   ]
  },
  {
   "cell_type": "markdown",
   "id": "fafaef4a-70ad-4bed-be1c-f04e2fba02c3",
   "metadata": {},
   "source": [
    "> Это финальный датасет по ЮЛ, по которому будет проводиться анализ. Загружен в папку"
   ]
  }
 ],
 "metadata": {
  "kernelspec": {
   "display_name": "Python 3 (ipykernel)",
   "language": "python",
   "name": "python3"
  },
  "language_info": {
   "codemirror_mode": {
    "name": "ipython",
    "version": 3
   },
   "file_extension": ".py",
   "mimetype": "text/x-python",
   "name": "python",
   "nbconvert_exporter": "python",
   "pygments_lexer": "ipython3",
   "version": "3.12.2"
  }
 },
 "nbformat": 4,
 "nbformat_minor": 5
}
