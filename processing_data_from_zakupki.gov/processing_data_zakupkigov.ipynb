{
 "cells": [
  {
   "cell_type": "markdown",
   "id": "0f471ff5-4fdd-4f10-b334-c2e14446c59f",
   "metadata": {},
   "source": [
    "# Как обрабатывал БД по недобросовестным поставщикам + как хотел применить классификацию для описания закупки, но не получилось"
   ]
  },
  {
   "cell_type": "markdown",
   "id": "66643f36-f24e-4080-8e98-347bd1fcc009",
   "metadata": {},
   "source": [
    "## Необходимые библиотеки"
   ]
  },
  {
   "cell_type": "code",
   "execution_count": 1,
   "id": "a7edefeb-9a08-4edf-84d0-679fcd95fa6c",
   "metadata": {},
   "outputs": [],
   "source": [
    "# для работы с БД\n",
    "import pandas as pd\n",
    "import numpy as np\n",
    "import matplotlib.pyplot as plt\n",
    "# для работы с API openAI\n",
    "import openai\n",
    "# для визуального отслеживания прогресса длительных операций\n",
    "from tqdm import tqdm\n",
    "\n",
    "import xmltodict"
   ]
  },
  {
   "cell_type": "markdown",
   "id": "29a33c7f-d3a6-406e-850f-379f94a23f6f",
   "metadata": {},
   "source": [
    "## Обработаем БД: скорректируем ИНН, приведем цены к единой валюте, унифицируем причину добавления в РНП"
   ]
  },
  {
   "cell_type": "code",
   "execution_count": 2,
   "id": "5d751dfc-4f4a-4ce0-99a7-7c6a2d7c2826",
   "metadata": {},
   "outputs": [],
   "source": [
    "# открываю таблицу с указанием типов данных\n",
    "file_path = 'output_dataframe_cleaned_correct_datatype.csv'\n",
    "dtype_dict = {'publish_date': 'string',\n",
    "              'reason': 'string',\n",
    "              'customer_code': 'string',\n",
    "              'customer_inn': 'string',\n",
    "              'customer_kpp': 'string',\n",
    "              'supplier_full_name': 'string',\n",
    "              'supplier_type': 'string',\n",
    "              'supplier_inn': 'string',\n",
    "              'supplier_kpp': 'string',\n",
    "              'purchase_object': 'string',\n",
    "              'contract_object': 'string',\n",
    "              'contract_price_currency': 'string',\n",
    "              'purchase_object': 'string'\n",
    "             }  # словарь с типами данных для нужных столбцов\n",
    "df = pd.read_csv(file_path, dtype=dtype_dict)"
   ]
  },
  {
   "cell_type": "markdown",
   "id": "9c4ce093-cb6c-46d8-ac2f-b29f73694aae",
   "metadata": {},
   "source": [
    "### Поработаем с ИНН"
   ]
  },
  {
   "cell_type": "code",
   "execution_count": 8,
   "id": "8da75af0-c115-4199-bb8d-245e8003c9a1",
   "metadata": {},
   "outputs": [
    {
     "data": {
      "text/plain": [
       "supplier_inn\n",
       "8         2\n",
       "9        15\n",
       "10    49378\n",
       "11       32\n",
       "12    13197\n",
       "13       14\n",
       "14        2\n",
       "15        4\n",
       "16        1\n",
       "20        1\n",
       "Name: count, dtype: Int64"
      ]
     },
     "execution_count": 8,
     "metadata": {},
     "output_type": "execute_result"
    }
   ],
   "source": [
    "# Подсчитываем количество записей для каждой длины\n",
    "# supplier_inn\n",
    "count_per_length_supplier_inn = df['supplier_inn'].str.len().value_counts().sort_index()\n",
    "count_per_length_supplier_inn"
   ]
  },
  {
   "cell_type": "markdown",
   "id": "f432a0d8-cbe4-4da1-a5d7-0398e7c9e918",
   "metadata": {},
   "source": [
    "> У ИНН должно быть только 10 или 12 чисел (у ЮЛ и у ИП соотвественно)\n",
    "\n",
    "> В нашем датасете есть неподходящие варианты. Это могут быть некорректные вводные данные, либо же это идентификаторы подрядчиков из других стран\n",
    "\n",
    "> Работать с ними не получится (так как мэтчинг доступен только по рос компаниям), поэтому неподходящие ИНН удаляем"
   ]
  },
  {
   "cell_type": "code",
   "execution_count": 39,
   "id": "9d310859-c9bd-45ac-b746-8b99cfedf8a8",
   "metadata": {},
   "outputs": [],
   "source": [
    "# Оставляем только те строки, длина 'supplier_inn' которых равна 10 или 12 символов\n",
    "df = df.loc[df['supplier_inn'].astype(str).apply(len).isin([10, 12])]"
   ]
  },
  {
   "cell_type": "markdown",
   "id": "9c34ff4e-3e27-4d3c-9462-755967a93aa4",
   "metadata": {},
   "source": [
    "### Поработаем с ценой контракта"
   ]
  },
  {
   "cell_type": "markdown",
   "id": "b6ac26d1-cbb4-492b-a726-5281ecaf2285",
   "metadata": {},
   "source": [
    "> В данных присутствуют записи в других валютах. Переведем все в рубли по соответствующему курсу"
   ]
  },
  {
   "cell_type": "markdown",
   "id": "2477784a-2750-4ef5-acad-6d23ac4217df",
   "metadata": {},
   "source": [
    "USD"
   ]
  },
  {
   "cell_type": "code",
   "execution_count": 56,
   "id": "6d83bab3-41b0-4793-821a-30e0906b6935",
   "metadata": {},
   "outputs": [],
   "source": [
    "# Изменение цены и валюты по условиям\n",
    "condition = (df['publish_date_year'] == 2018) & (df['contract_price_currency'] == 'USD')\n",
    "df.loc[condition, 'contract_price_amount'] *= 63 # Изменяем цену\n",
    "df.loc[condition, 'contract_price_currency'] = 'RUB'  # Изменяем валюту"
   ]
  },
  {
   "cell_type": "code",
   "execution_count": 59,
   "id": "f12c5259-c8ac-46e8-9127-b368982b2b7b",
   "metadata": {},
   "outputs": [],
   "source": [
    "# Изменение цены и валюты по условиям\n",
    "condition = (df['publish_date_year'] == 2019) & (df['contract_price_currency'] == 'USD')\n",
    "df.loc[condition, 'contract_price_amount'] *= 65 # Изменяем цену\n",
    "df.loc[condition, 'contract_price_currency'] = 'RUB'  # Изменяем валюту"
   ]
  },
  {
   "cell_type": "code",
   "execution_count": 61,
   "id": "4fa9118b-c678-41d4-948c-18dc627861db",
   "metadata": {},
   "outputs": [],
   "source": [
    "# Изменение цены и валюты по условиям\n",
    "condition = (df['publish_date_year'] == 2021) & (df['contract_price_currency'] == 'USD')\n",
    "df.loc[condition, 'contract_price_amount'] *= 74 # Изменяем цену\n",
    "df.loc[condition, 'contract_price_currency'] = 'RUB'  # Изменяем валюту"
   ]
  },
  {
   "cell_type": "markdown",
   "id": "a1465216-2888-4c4c-9dfe-084e74b0fe83",
   "metadata": {},
   "source": [
    "AUD"
   ]
  },
  {
   "cell_type": "code",
   "execution_count": 65,
   "id": "2740d237-078c-4fdd-961d-05ac657b4ddb",
   "metadata": {},
   "outputs": [],
   "source": [
    "# Изменение цены и валюты по условиям\n",
    "condition = (df['publish_date_year'] == 2015) & (df['contract_price_currency'] == 'AUD')\n",
    "df.loc[condition, 'contract_price_amount'] *= 46 # Изменяем цену\n",
    "df.loc[condition, 'contract_price_currency'] = 'RUB'  # Изменяем валюту"
   ]
  },
  {
   "cell_type": "code",
   "execution_count": 67,
   "id": "c2b6965a-8e2a-4ad5-b70e-80580aef1469",
   "metadata": {},
   "outputs": [],
   "source": [
    "# Изменение цены и валюты по условиям\n",
    "condition = (df['publish_date_year'] == 2016) & (df['contract_price_currency'] == 'AUD')\n",
    "df.loc[condition, 'contract_price_amount'] *= 50 # Изменяем цену\n",
    "df.loc[condition, 'contract_price_currency'] = 'RUB'  # Изменяем валюту"
   ]
  },
  {
   "cell_type": "markdown",
   "id": "53733be6-6239-4253-965c-ae4313fb1c77",
   "metadata": {},
   "source": [
    "EUR"
   ]
  },
  {
   "cell_type": "code",
   "execution_count": 70,
   "id": "bf6ab4a3-5e94-42a4-a34b-e93acc5a5baa",
   "metadata": {},
   "outputs": [],
   "source": [
    "# Изменение цены и валюты по условиям\n",
    "condition = (df['publish_date_year'] == 2016) & (df['contract_price_currency'] == 'EUR')\n",
    "df.loc[condition, 'contract_price_amount'] *= 74 # Изменяем цену\n",
    "df.loc[condition, 'contract_price_currency'] = 'RUB'  # Изменяем валюту"
   ]
  },
  {
   "cell_type": "code",
   "execution_count": 72,
   "id": "a1869fb8-d237-4f16-a478-8747b590e595",
   "metadata": {},
   "outputs": [],
   "source": [
    "# Изменение цены и валюты по условиям\n",
    "condition = (df['publish_date_year'] == 2017) & (df['contract_price_currency'] == 'EUR')\n",
    "df.loc[condition, 'contract_price_amount'] *= 66 # Изменяем цену\n",
    "df.loc[condition, 'contract_price_currency'] = 'RUB'  # Изменяем валюту"
   ]
  },
  {
   "cell_type": "markdown",
   "id": "76eb439e-20b6-49a1-93c1-17e141a76d4a",
   "metadata": {},
   "source": [
    "### Поработаем с причиной добавления в РНП"
   ]
  },
  {
   "cell_type": "code",
   "execution_count": null,
   "id": "42e7a33c-b6cc-4b57-8d0a-cd53cf300743",
   "metadata": {},
   "outputs": [],
   "source": [
    "df['reason'].value_counts()"
   ]
  },
  {
   "cell_type": "raw",
   "id": "d672bb41-8626-4523-babc-fcaf07f0be4b",
   "metadata": {},
   "source": [
    "reason\n",
    "CANCEL_CONTRACT                                 42216\n",
    "WINNER_DEVIATION                                19949\n",
    "ONE_WINNER_DEVIATION                              329\n",
    "PARTICIPANT_DEVIATION_IF_WINNER_DEVIATION          40\n",
    "Расторжение контракта                              28\n",
    "Уклонение победителя от заключения контракта       13\n",
    "Name: count, dtype: Int64"
   ]
  },
  {
   "cell_type": "markdown",
   "id": "5f97d2c7-e967-4f9d-9d1b-0f1e22503624",
   "metadata": {},
   "source": [
    "> Причина добавления в РНП содержит два основых значения: CANCEL_CONTRACT (причина на этапе исполнения контракта), WINNER_DEVIATION (причина на этапе заключения контракта)\n",
    "\n",
    "> Остальные причины являются частью первых двух. По каким то причинам в некоторых записях их отмечали другими формулировками (или на русском). Отнесем их к своему типу."
   ]
  },
  {
   "cell_type": "code",
   "execution_count": null,
   "id": "b718fa6c-7020-44cf-8657-29b2f98b91e3",
   "metadata": {},
   "outputs": [],
   "source": [
    "# Замена значений в столбце 'reason'\n",
    "df['reason'] = df['reason'].replace({\n",
    "    'ONE_WINNER_DEVIATION': 'WINNER_DEVIATION',\n",
    "    'PARTICIPANT_DEVIATION_IF_WINNER_DEVIATION': 'WINNER_DEVIATION',\n",
    "    'Уклонение победителя от заключения контракта': 'WINNER_DEVIATION',\n",
    "    'Расторжение контракта': 'CANCEL_CONTRACT'\n",
    "})"
   ]
  },
  {
   "cell_type": "markdown",
   "id": "2c60e45c-78c1-42a4-bdcf-f847ae5c7ece",
   "metadata": {},
   "source": [
    "## Выбираем нужные переменные из обработанного датасета"
   ]
  },
  {
   "cell_type": "markdown",
   "id": "58f93348-54e1-40c4-8af1-784eaa26a72c",
   "metadata": {},
   "source": [
    "> Для дальнейшей работы отберем необходимые столбцы из обработанного датасета"
   ]
  },
  {
   "cell_type": "code",
   "execution_count": null,
   "id": "07b227e6-7950-41b5-b8f3-bdd179aebbcc",
   "metadata": {},
   "outputs": [],
   "source": [
    "needed_cols = df[['supplier_inn', 'publish_date_year', 'publish_date', 'reason', 'contract_price_amount']]\n",
    "needed_cols.to_csv('rnp_suppliers.csv', index=False)"
   ]
  },
  {
   "cell_type": "markdown",
   "id": "e942b2ae-49e7-4fec-85de-56e04ac720c0",
   "metadata": {},
   "source": [
    "## Теперь как я пытался классифицировать описание закупки, но не получилось"
   ]
  },
  {
   "cell_type": "markdown",
   "id": "92b3aecf-1a6f-4c49-9149-f8d9b8a65d81",
   "metadata": {},
   "source": [
    "> Переменные 'purchase_object', 'contract_object' содержут описание закупки, по типу \"закупка по 3 видам медицинских шприцов\" и т.д\n",
    "\n",
    "> Каждое описание - уникальное и не имеет конкретной структуры - видимо это заполняется человеком\n",
    "\n",
    "> Коротко об идее, что я хотел сделать и для чего:\n",
    "> 1) классифицировать описание закупки по ОКВЭД с помощью LLM\n",
    "> 2) сравнивать данный ОКВЭД с ОКВЭДом, по которому работает данный поставщик\n",
    "> 3) получить ответ на вопрос: а выполняет ли поставщик закупку в соотвествии со своим видом деятельности или нет?"
   ]
  },
  {
   "cell_type": "code",
   "execution_count": 28,
   "id": "acd96920-3e28-4d5e-8f13-66365ee300e9",
   "metadata": {},
   "outputs": [
    {
     "name": "stdout",
     "output_type": "stream",
     "text": [
      "Заполненность столбца purchase_object: 58274 из 62575\n",
      "Заполненность столбца contract_object: 55127 из 62575\n",
      "Случаев, когда purchase заполнен, а contract нет: 6563\n",
      "Случаев, когда contract заполнен, а purchase нет: 3416\n"
     ]
    }
   ],
   "source": [
    "# Проверка заполненности столбцов\n",
    "total_entries = len(df)\n",
    "non_null_purchase = df['purchase_object'].notna().sum()\n",
    "non_null_contract = df['contract_object'].notna().sum()\n",
    "\n",
    "print(f\"Заполненность столбца purchase_object: {non_null_purchase} из {total_entries}\")\n",
    "print(f\"Заполненность столбца contract_object: {non_null_contract} из {total_entries}\")\n",
    "\n",
    "# Подсчет случаев, когда X заполнен, а Y нет, и наоборот\n",
    "purchase_filled_contract_empty = ((df['purchase_object'].notna()) & (df['contract_object'].isna())).sum()\n",
    "contract_filled_purchase_empty = ((df['contract_object'].notna()) & (df['purchase_object'].isna())).sum()\n",
    "\n",
    "print(f\"Случаев, когда purchase заполнен, а contract нет: {purchase_filled_contract_empty}\")\n",
    "print(f\"Случаев, когда contract заполнен, а purchase нет: {contract_filled_purchase_empty}\")"
   ]
  },
  {
   "cell_type": "code",
   "execution_count": 29,
   "id": "ae7d755d-1a39-4b1d-bb23-3f7bab0cc5b0",
   "metadata": {},
   "outputs": [],
   "source": [
    "df['final_object'] = df['contract_object'].combine_first(df['purchase_object'])"
   ]
  },
  {
   "cell_type": "code",
   "execution_count": 37,
   "id": "5416c0cb-5728-4e69-8a9e-b9440595aeaa",
   "metadata": {},
   "outputs": [
    {
     "data": {
      "text/plain": [
       "885"
      ]
     },
     "execution_count": 37,
     "metadata": {},
     "output_type": "execute_result"
    }
   ],
   "source": [
    "df['final_object'].isna().sum()"
   ]
  },
  {
   "cell_type": "raw",
   "id": "052c63ec-d4fa-4e2e-8ed7-137367fdc312",
   "metadata": {},
   "source": [
    "Это верхнеуровневые классы ОКВЭД, к которым я привязываю описание закупки\n",
    "\"1) Сельское, лесное хозяйство, охота, рыболовство и рыбоводство\\n\"\n",
    "\"2) Добыча полезных ископаемых\\n\"\n",
    "\"3) Обрабатывающие производства\\n\"\n",
    "\"4) Обеспечение электрической энергией, газом и паром; кондиционирование воздуха\\n\"\n",
    "\"5) Водоснабжение; водоотведение, организация сбора и утилизации отходов, деятельность по ликвидации загрязнений\\n\"\n",
    "\"6) Строительство\\n\"\n",
    "\"7) Торговля оптовая и розничная; ремонт автотранспортных средств и мотоциклов\\n\"\n",
    "\"8) Транспортировка и хранение\\n\"\n",
    "\"9) Деятельность гостиниц и предприятий общественного питания\\n\"\n",
    "\"10) Деятельность в области информации и связи\\n\"\n",
    "\"11) Деятельность финансовая и страховая\\n\"\n",
    "\"12) Деятельность по операциям с недвижимым имуществом\\n\"\n",
    "\"13) Деятельность профессиональная, научная и техническая\\n\"\n",
    "\"14) Деятельность административная и сопутствующие дополнительные услуги\\n\"\n",
    "\"15) Государственное управление и обеспечение военной безопасности; социальное обеспечение\\n\"\n",
    "\"16) Образование\\n\"\n",
    "\"17) Деятельность в области здравоохранения и социальных услуг\\n\"\n",
    "\"18) Деятельность в области культуры, спорта, организации досуга и развлечений\\n\"\n",
    "\"19) Предоставление прочих видов услуг\\n\"\n",
    "\"20) Деятельность домашних хозяйств как работодателей; недифференцированная деятельность частных домашних хозяйств по производству товаров и оказанию услуг для собственного потребления\\n\"\n",
    "\"21) Деятельность экстерриториальных организаций и органов\""
   ]
  },
  {
   "cell_type": "markdown",
   "id": "845a0f74-4b50-469b-b514-8a998d248d8b",
   "metadata": {},
   "source": [
    "> тут я использую \"gpt-3.5-turbo-instruct\"\n",
    "\n",
    "> было проведено много разных итераций и промтов, в итоге остановился на этом\n",
    "\n",
    "> но это выходило в немалую денежку, и проводить это на всем датасете я не хотел\n",
    "\n",
    "> также на тестовом примере (в 2000 записей) было обнаружено, что в некоторых моментах модель ошибается и присваивает неверный ОКВЭД"
   ]
  },
  {
   "cell_type": "code",
   "execution_count": null,
   "id": "f3adef63-30ad-4b45-b491-eda549c24313",
   "metadata": {
    "scrolled": true
   },
   "outputs": [],
   "source": [
    "tqdm.pandas()\n",
    "\n",
    "openai.api_key = '...' # индивидуальный ключ для API\n",
    "\n",
    "def classify_purchase(description):\n",
    "    try:\n",
    "        response = openai.Completion.create(\n",
    "            model=\"gpt-3.5-turbo-instruct\",  \n",
    "            prompt=f\"К какому виду деятельности относится следующее описание закупки? '{description}'\n",
    "                \\n\\n1) Сельское, лесное хозяйство, охота, рыболовство и рыбоводство\\n\n",
    "                    2) Добыча полезных ископаемых\\n\n",
    "                    3) Обрабатывающие производства\\n\n",
    "                    4) Обеспечение электрической энергией, газом и паром; кондиционирование воздуха\\n\n",
    "                    5) Водоснабжение; водоотведение, организация сбора и утилизации отходов, деятельность по ликвидации загрязнений\\n\n",
    "                    6) Строительство\\n\n",
    "                    7) Торговля оптовая и розничная; ремонт автотранспортных средств и мотоциклов\\n\n",
    "                    8) Транспортировка и хранение\\n\n",
    "                    9) Деятельность гостиниц и предприятий общественного питания\\n\n",
    "                    10) Деятельность в области информации и связи\\n\n",
    "                    11) Деятельность финансовая и страховая\\n\n",
    "                    12) Деятельность по операциям с недвижимым имуществом\\n\n",
    "                    13) Деятельность профессиональная, научная и техническая\\n\n",
    "                    14) Деятельность административная и сопутствующие дополнительные услуги\\n\n",
    "                    15) Государственное управление и обеспечение военной безопасности; социальное обеспечение\\n\n",
    "                    16) Образование\\n\n",
    "                    17) Деятельность в области здравоохранения и социальных услуг\\n\n",
    "                    18) Деятельность в области культуры, спорта, организации досуга и развлечений\\n\n",
    "                    19) Предоставление прочих видов услуг\\n\n",
    "                    20) Деятельность домашних хозяйств как работодателей; недифференцированная деятельность частных домашних хозяйств по производству товаров и оказанию услуг для собственного потребления\\n\n",
    "                    21) Деятельность экстерриториальных организаций и органов\\n Если нет точной информации, выведи 'Нет ответа'\",\n",
    "            temperature=0,\n",
    "            max_tokens=100\n",
    "        )\n",
    "        result = response.choices[0].text.strip()\n",
    "        return result.split(') ')[1] if ') ' in result else result\n",
    "    except Exception as e:\n",
    "        print(f\"Error: {e}\")\n",
    "        return \"Classification Error\"\n",
    "\n",
    "df['clean_object'] = df['final_object'].progress_apply(classify_purchase)"
   ]
  }
 ],
 "metadata": {
  "kernelspec": {
   "display_name": "Python 3 (ipykernel)",
   "language": "python",
   "name": "python3"
  },
  "language_info": {
   "codemirror_mode": {
    "name": "ipython",
    "version": 3
   },
   "file_extension": ".py",
   "mimetype": "text/x-python",
   "name": "python",
   "nbconvert_exporter": "python",
   "pygments_lexer": "ipython3",
   "version": "3.12.2"
  }
 },
 "nbformat": 4,
 "nbformat_minor": 5
}
